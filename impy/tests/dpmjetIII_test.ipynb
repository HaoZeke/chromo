{
 "cells": [
  {
   "cell_type": "code",
   "execution_count": 1,
   "metadata": {},
   "outputs": [],
   "source": [
    "import matplotlib.pyplot as plt\n",
    "import sys\n",
    "import os\n",
    "import numpy as np\n",
    "%load_ext autoreload\n",
    "%autoreload 2"
   ]
  },
  {
   "cell_type": "code",
   "execution_count": 2,
   "metadata": {},
   "outputs": [
    {
     "name": "stdout",
     "output_type": "stream",
     "text": [
      "/mnt/e/Main/job/github/repo/impy\n"
     ]
    }
   ],
   "source": [
    "root_dir = os.path.abspath('../../')\n",
    "sys.path.append(root_dir)\n",
    "# sys.path.append(os.path.join(root_dir,'../DPMJET-III-gitlab/lib'))\n",
    "print(root_dir)\n",
    "\n",
    "pythia_dir = os.path.join(\n",
    "    os.path.expanduser('~'), 'devel', 'apps', 'pythia8240')\n",
    "sys.path.append(os.path.join(pythia_dir, 'lib'))\n",
    "\n",
    "from impy.definitions import *\n",
    "from impy.constants import *\n",
    "from impy.kinematics import EventKinematics\n",
    "from impy import impy_config, pdata"
   ]
  },
  {
   "cell_type": "code",
   "execution_count": 17,
   "metadata": {},
   "outputs": [
    {
     "name": "stdout",
     "output_type": "stream",
     "text": [
      "['/mnt/e/Main/job/github/repo/impy/impy/tests', '/usr/lib/python38.zip', '/usr/lib/python3.8', '/usr/lib/python3.8/lib-dynload', '', '/mnt/e/Main/job/github/repo/impy_venv_01/lib/python3.8/site-packages', '/mnt/e/Main/job/github/repo/impy', '/mnt/e/Main/job/github/repo/impy', '/home/anton/devel/apps/pythia8240/lib', '/mnt/e/Main/job/github/repo/impy/impy/lib']\n"
     ]
    }
   ],
   "source": [
    "print(sys.path)"
   ]
  },
  {
   "cell_type": "code",
   "execution_count": 3,
   "metadata": {},
   "outputs": [],
   "source": [
    "# AF: This is what the user interaction has to yield.\n",
    "# It is the typical expected configuration that one\n",
    "# wants to run (read pp-mode at energies not exceeding\n",
    "# 7 TeV). If you want cosmic ray energies, this should\n",
    "# be rather p-N at 10 EeV and lab frame (not yet defined).\n",
    "\n",
    "event_kinematics = EventKinematics(\n",
    "    ecm= 14000 * GeV,\n",
    "    p1pdg=2212,\n",
    "    p2pdg=2212\n",
    "#     nuc2_prop=(12,6)\n",
    ")"
   ]
  },
  {
   "cell_type": "code",
   "execution_count": 4,
   "metadata": {},
   "outputs": [],
   "source": [
    "impy_config[\"user_frame\"] = 'center-of-mass'\n",
    "impy_config['tau_stable'] = 10e-12\n",
    "impy_config['pi0_stable'] = True\n",
    "impy_config['debug_level'] = 2"
   ]
  },
  {
   "cell_type": "code",
   "execution_count": 5,
   "metadata": {},
   "outputs": [
    {
     "name": "stdout",
     "output_type": "stream",
     "text": [
      "impy.models.dpmjetIII.DpmjetIIIRun::init_generator(): Initializing DPMJET-III\n",
      " +-----------------------------------------------------------------------+\n",
      " |                                                                       |\n",
      " |                       DPMJET-III version 19.1.0                       |\n",
      " |                                                                       |\n",
      " |                      (Last change:  09 Jul 2019)                      |\n",
      " |                                                                       |\n",
      " |            Authors:                                                   |\n",
      " |                     Stefan Roesler     (CERN)                         |\n",
      " |                     Anatoli Fedynitch  (ICRR)                         |\n",
      " |                     Ralph Engel        (KIT)                          |\n",
      " |                     Johannes Ranft     (Siegen Univ.)                 |\n",
      " |                                                                       |\n",
      " |        https://github.com/afedynitch/dpmjet                           |\n",
      " |                                                                       |\n",
      " +-----------------------------------------------------------------------+\n",
      " | Contact: @github \n",
      " +-----------------------------------------------------------------------+\n",
      "\n",
      " DT_JSPARA: new value (default value)\n",
      "\n",
      "  ===================================================\n",
      "                                                     \n",
      "    ----        PHOJET  19.1.0       ----   \n",
      "                                                     \n",
      "  ===================================================\n",
      "      Authors: Ralph Engel         (KIT)\n",
      "               Anatoli Fedynitch   (ICRR)\n",
      "               Johannes Ranft      (Siegen Univ.)\n",
      "               Stefan Roesler      (CERN)\n",
      "  ---------------------------------------------------\n",
      "    bug reports, support and updates on:\n",
      "      https://github.com/afedynitch/dpmjet\n",
      "  ===================================================\n",
      "    Date: 2019/07/09\n",
      "    Revision: 19.1.0\n",
      "    Code with interface to PYTHIA 6.4.27\n",
      "  ===================================================\n",
      "\n",
      "\n",
      " PHO_SETPDF: overwrite old particle PDF  3122     1     2     1     0\n",
      "\n",
      " PHO_SETPDF: overwrite old particle PDF -3122     1     2     1     0\n",
      "\n",
      "\n",
      " NCLPOT:    quantities for inclusion of nuclear effects\n",
      "            -------------------------------------------\n",
      "\n",
      "                                      projectile      target\n",
      "\n",
      " Mass number / charge                   1 /  1        1 /  1\n",
      " Binding energy  - proton   (GeV)     0.0000E+00    0.0000E+00\n",
      "                 - neutron  (GeV)     0.0000E+00    0.0000E+00\n",
      " Fermi-potential - proton   (GeV)     0.0000E+00    0.0000E+00\n",
      "                 - neutron  (GeV)     0.0000E+00    0.0000E+00\n",
      "\n",
      " Scale factor for Fermi-momentum    0.55\n",
      "\n",
      " Coulomb-energy     0.0000E+00 GeV      0.0000E+00 GeV  \n",
      "\n",
      "\n",
      " DT_PHOINI:    PHOJET initialized for projectile A,Z =   1, 1\n",
      " 1.5xp_F(max) =  0.000E+00  p(max) =  0.000E+00 0.000E+00 0.700E+04 0.700E+04\n",
      " DT_PHOINI:    PHOJET initialized for target     A,Z =   1, 1\n",
      " 1.5xp_F(max) = -0.000E+00  p(max) =  0.000E+00 0.000E+00-0.700E+04 0.700E+04\n",
      " E_cm =  0.140E+05\n",
      "\n",
      "\n",
      " =======================================================\n",
      "   ------- initialization of event generation --------\n",
      " =======================================================\n",
      "\n",
      " PHO_SETMDL: current settings\n",
      " ----------------------------\n",
      "\n",
      "       1:AMPL MOD     3       2:MIN-BIAS     1       3:PTS DISH     1\n",
      "       4:PTS DISP     1       5:PTS ASSI     2       6:HADRONIZ     3\n",
      "       7:MASS COR     2       8:PAR SHOW     3       9:GLU SPLI     0\n",
      "      10:VIRT PHO     2      11:LARGE NC     0      12:LIPA POM     0\n",
      "      13:QELAS VM     1      14:ENHA GRA     2      15:MULT SCA     4\n",
      "      16:MULT DIF     4      17:MULT CDF     4      18:BALAN PT     0\n",
      "      19:POMV FLA     1      20:SEA  FLA     0      21:SPIN DEC     2\n",
      "      22:DIF.MASS     1      23:DIFF RES     1      24:PTS HPOM     0\n",
      "      25:POM CORR     0      26:OVERLAP      1      27:MUL R/AN     0\n",
      "      28:SUR PROB     1      29:PRIMO KT     1      30:DIFF. CS     0\n",
      "\n",
      "\n",
      " SHMAKI:    Glauber formalism (Shmakov et. al) - initialization\n",
      "            ---------------------------------------------------\n",
      "\n",
      " variable energy run:    projectile-id:  1    target A/Z:   1 /  1\n",
      "\n",
      "  E_cm (GeV)  E_Lab (GeV)  sig_tot^pp (mb)  Sigma_tot (mb)  Sigma_prod (mb)\n",
      " ---------------------------------------------------------------------------\n",
      "\n",
      " PHO_FITPAR: looking for PDF   2212  CT14-LO       2      1      0\n",
      " PHO_FITPAR: looking for PDF   2212  CT14-LO       2      1      0\n",
      "\n",
      " PHO_FITPAR: parameter set not found in internal table\n",
      "\n",
      " PHO_FITPAR: loading parameter set from file /mnt/e/Main/job/github/repo/impy/impy/iamdata/dpm3191/dpmjpar.dat\n",
      "\n",
      " PHO_FITPAR: parameter set found\n",
      "\n",
      " PHO_FITPAR: parameter set\n",
      " -------------------------\n",
      "  ALPOM:  1.113 ALPOMP:  0.250 GP:    5.636    5.636 B0POM:    1.279    1.279\n",
      "  ALREG:  0.572 ALREGP:  0.967 GR:   10.697   10.697 B0REG:    0.370    0.370\n",
      "  GPPP :  0.150 B0PPP:  0.372 GPPR :  0.612 B0PPR:  0.300\n",
      " VDMFAC:   1.00000   0.00000   1.00000   0.00000\n",
      " VDMQ2F:   1.00000   0.00000   1.00000   0.00000\n",
      "  B0HAR:   1.500\n",
      "  AKFAC:   2.000\n",
      " PHISUP:   0.600   0.600\n",
      "  RMASS:   1.100   1.100   3.000\n",
      "\n",
      " PHO_FRAINI: fragmentation initialization ISWMDL(6)  3\n",
      " --------------------------------------------------\n",
      "     parameter description               default / current\n",
      "     PARJ( 2) strangeness suppression :   0.300  0.300\n",
      "     MSTJ(12) popcorn                 :       2      2\n",
      "     PARJ(19) popcorn                 :   1.000  1.000\n",
      "     PARJ(41) Lund a                  :   0.300  0.300\n",
      "     PARJ(42) Lund b                  :   0.580  0.580\n",
      "     PARJ(21) sigma in pt distribution:   0.360  0.360\n",
      "\n",
      "\n",
      " PHO_MCINI: selected energy range (SQRT(S))         2.5     16800.0\n",
      "     particle 1 (name,mass,virtuality): p+               0.938     0.0000E+00\n",
      "     particle 2 (name,mass,virtuality): p+               0.938     0.0000E+00\n",
      "\n",
      " PHO_HARINI: hard scattering parameters for IP:  4\n",
      "     particle 1 / particle 2:     990     990\n",
      "     min. PT   :    2.5  (energy-dependent)  \n",
      "     PDF side 1:  CKMT-POM IGRP/ISET/IEXT    4   0   0\n",
      "     PDF side 2:  CKMT-POM IGRP/ISET/IEXT    4   0   0\n",
      "     LAMBDA1,2 (4 active flavours):   0.230   0.230\n",
      "     max. number of active flavours NF  :  4\n",
      "     NQQAL/AQQAL/NQQPD/AQQPD:    1   1.000    1   1.000\n",
      "\n",
      " PHO_HARINI: hard scattering parameters for IP:  3\n",
      "     particle 1 / particle 2:    2212     990\n",
      "     min. PT   :    2.5  (energy-dependent)  \n",
      "     PDF side 1:  CT14-LO  IGRP/ISET/IEXT    2   1   0\n",
      "     PDF side 2:  CKMT-POM IGRP/ISET/IEXT    4   0   0\n",
      "     LAMBDA1,2 (4 active flavours):   0.281   0.230\n",
      "     max. number of active flavours NF  :  4\n",
      "     NQQAL/AQQAL/NQQPD/AQQPD:    1   1.000    1   1.000\n",
      "\n",
      " PHO_HARINI: hard scattering parameters for IP:  2\n",
      "     particle 1 / particle 2:    2212     990\n",
      "     min. PT   :    2.5  (energy-dependent)  \n",
      "     PDF side 1:  CT14-LO  IGRP/ISET/IEXT    2   1   0\n",
      "     PDF side 2:  CKMT-POM IGRP/ISET/IEXT    4   0   0\n",
      "     LAMBDA1,2 (4 active flavours):   0.281   0.230\n",
      "     max. number of active flavours NF  :  4\n",
      "     NQQAL/AQQAL/NQQPD/AQQPD:    1   1.000    1   1.000\n",
      "\n",
      " PHO_HARINI: hard scattering parameters for IP:  1\n",
      "     particle 1 / particle 2:    2212    2212\n",
      "     min. PT   :    2.5  (energy-dependent)  \n",
      "     PDF side 1:  CT14-LO  IGRP/ISET/IEXT    2   1   0\n",
      "     PDF side 2:  CT14-LO  IGRP/ISET/IEXT    2   1   0\n",
      "     LAMBDA1,2 (4 active flavours):   0.281   0.281\n",
      "     max. number of active flavours NF  :  4\n",
      "     NQQAL/AQQAL/NQQPD/AQQPD:    1   1.000    1   1.000\n",
      "\n",
      " Table of total cross sections (mb) for particle combination  1\n",
      "  Ecm    SIGtot  SIGela  SIGine  SIGqel  SIGsd1  SIGsd2  SIGdd\n",
      " -------------------------------------------------------------\n",
      "  2.50E+00 4.17E+01 1.03E+01 3.14E+01 0.00E+00 1.09E+00 1.09E+00 1.12E-01\n",
      "  3.98E+00 4.05E+01 8.62E+00 3.19E+01 0.00E+00 1.23E+00 1.23E+00 1.15E-01\n",
      "  6.32E+00 3.94E+01 7.50E+00 3.19E+01 0.00E+00 1.41E+00 1.41E+00 2.00E-01\n",
      "  1.01E+01 3.89E+01 6.86E+00 3.20E+01 0.00E+00 1.61E+00 1.61E+00 3.32E-01\n",
      "  1.60E+01 3.91E+01 6.57E+00 3.25E+01 0.00E+00 1.83E+00 1.83E+00 5.18E-01\n",
      "  2.54E+01 4.00E+01 6.54E+00 3.34E+01 0.00E+00 2.09E+00 2.09E+00 7.39E-01\n",
      "  4.04E+01 4.15E+01 6.73E+00 3.48E+01 0.00E+00 2.37E+00 2.37E+00 9.86E-01\n",
      "  6.43E+01 4.37E+01 7.11E+00 3.66E+01 0.00E+00 2.67E+00 2.67E+00 1.25E+00\n",
      "  1.02E+02 4.65E+01 7.70E+00 3.88E+01 0.00E+00 2.98E+00 2.97E+00 1.51E+00\n",
      "  1.63E+02 4.99E+01 8.53E+00 4.14E+01 0.00E+00 3.27E+00 3.27E+00 1.77E+00\n",
      "  2.59E+02 5.40E+01 9.64E+00 4.44E+01 0.00E+00 3.54E+00 3.53E+00 2.02E+00\n",
      "  4.11E+02 5.88E+01 1.10E+01 4.78E+01 0.00E+00 3.78E+00 3.77E+00 2.25E+00\n",
      "  6.54E+02 6.41E+01 1.27E+01 5.14E+01 0.00E+00 4.00E+00 3.99E+00 2.48E+00\n",
      "  1.04E+03 6.97E+01 1.45E+01 5.52E+01 0.00E+00 4.21E+00 4.20E+00 2.71E+00\n",
      "  1.65E+03 7.58E+01 1.65E+01 5.92E+01 0.00E+00 4.42E+00 4.41E+00 2.93E+00\n",
      "  2.63E+03 8.20E+01 1.87E+01 6.34E+01 0.00E+00 4.64E+00 4.63E+00 3.15E+00\n",
      "  4.18E+03 8.86E+01 2.09E+01 6.77E+01 0.00E+00 4.87E+00 4.86E+00 3.35E+00\n",
      "  6.65E+03 9.54E+01 2.33E+01 7.21E+01 0.00E+00 5.12E+00 5.10E+00 3.53E+00\n",
      "  1.06E+04 1.02E+02 2.57E+01 7.67E+01 0.00E+00 5.38E+00 5.36E+00 3.70E+00\n",
      "  1.68E+04 1.10E+02 2.83E+01 8.15E+01 0.00E+00 5.66E+00 5.64E+00 3.84E+00\n",
      "\n",
      " activated processes, cross section\n",
      " ----------------------------------\n",
      "       nondiffr. resolved processes  1    1  1  1\n",
      "                 elastic scattering  0    0  0  0\n",
      "     qelast. vectormeson production  1    0  0  0\n",
      "           double pomeron processes  1    0  0  0\n",
      "      single diffract. particle (1)  1    0  0  0\n",
      "      single diffract. particle (2)  1    0  0  0\n",
      "         double diffract. processes  1    0  0  0\n",
      "            direct photon processes  1    1  1  1\n",
      "   maximum search (Elow/Eup/Epeak) 2.5000E+00 1.6817E+04 1.6817E+04\n",
      "           max. cross section (mb)  8.1524E+01\n",
      "\n",
      "\n",
      " PHO_HARSCA: activated hard processes\n",
      " ------------------------------------\n",
      "     PROCESS,    IP= 1 ... 4 (on/off)\n",
      "   1     G  +G  --> G  +G    1  1  1  1\n",
      "   2     Q  +QB --> G  +G    1  1  1  1\n",
      "   3     G  +Q  --> G  +Q    1  1  1  1\n",
      "   4     G  +G  --> Q  +QB   1  1  1  1\n",
      "   5     Q  +QB --> Q  +QB   1  1  1  1\n",
      "   6     Q  +QB --> QP +QBP  1  1  1  1\n",
      "   7     Q  +Q  --> Q  +Q    1  1  1  1\n",
      "   8     Q  +QP --> Q  +QP   1  1  1  1\n",
      "   9     resolved processes  1  1  1  1\n",
      "  10     gam+Q  --> G  +Q    1  1  1  1\n",
      "  11     gam+G  --> Q  +QB   1  1  1  1\n",
      "  12     Q  +gam--> G  +Q    1  1  1  1\n",
      "  13     G  +gam--> Q  +QB   1  1  1  1\n",
      "  14     gam+gam--> Q  +QB   1  1  1  1\n",
      "  15     direct processes    1  1  1  1\n",
      "  16     gam+gam--> l+ +l-   0  0  0  0\n",
      "       4.5   0.996E+01         4.02             0.000          30.110\n",
      "       5.6   0.156E+02         3.97             0.000          30.466\n",
      "       6.9   0.242E+02         3.93             0.000          30.756\n",
      "       8.5   0.371E+02         3.91             0.000          31.030\n",
      "      10.4   0.568E+02         3.89             0.000          31.278\n",
      "      12.8   0.866E+02         3.90             0.000          31.617\n",
      "      15.8   0.132E+03         3.91             0.000          31.927\n",
      "      19.4   0.200E+03         3.95             0.000          32.392\n",
      " ====================================================\n",
      " |                                                  |\n",
      " |                 S I B Y L L  2.3d                |\n",
      " |                                                  |\n",
      " |         HADRONIC INTERACTION MONTE CARLO         |\n",
      " |                        BY                        |\n",
      " |            Eun-Joo AHN, Felix RIEHN              |\n",
      " |      R. ENGEL, A. FEDYNITCH, R.S. FLETCHER,      |\n",
      " |       T.K. GAISSER, P. LIPARI, T. STANEV         |\n",
      " |                                                  |\n",
      " | Publication to be cited when using this program: |\n",
      " | Eun-Joo AHN et al., Phys.Rev. D80 (2009) 094003  |\n",
      " | F. RIEHN et al., hep-ph: 1912.03300              |\n",
      " | last modifications: F. Riehn (05/20/2020)        |\n",
      " ====================================================\n",
      "\n",
      " SIG_AIR_INI: initializing target: (i,A)           1           0 air..\n",
      " SIG_AIR_INI: initializing target: (i,A)           2          14 nit..\n",
      " SIG_AIR_INI: initializing target: (i,A)           3          16 oxy..\n"
     ]
    }
   ],
   "source": [
    "generator = make_generator_instance(interaction_model_by_tag['DPMJETIII191'])\n",
    "generator.init_generator(event_kinematics)\n",
    "# import IPython\n",
    "# IPython.embed()\n",
    "sibyll = make_generator_instance(interaction_model_by_tag['SIBYLL23D'])\n",
    "sibyll.init_generator(event_kinematics)\n"
   ]
  },
  {
   "cell_type": "code",
   "execution_count": 6,
   "metadata": {},
   "outputs": [
    {
     "name": "stdout",
     "output_type": "stream",
     "text": [
      " DT_INITJS: JETSET-parameter for PHOJET\n",
      " DT_JSPARA: new value (default value)\n",
      "            PARJ(  1):  0.080 ( 0.100)\n",
      "            PARJ(  2):  0.160 ( 0.300)\n",
      "            PARJ(  3):  0.900 ( 0.400)\n",
      "            MSTU(  4):   4000 ( 12000)\n",
      "            PARJ(  5):  0.200 ( 0.500)\n",
      "            PARJ(  7):  0.850 ( 0.500)\n",
      "            MSTJ( 12):      3 (     2)\n",
      "            PARJ( 18):  0.100 ( 1.000)\n",
      "            MSTU( 20):      1 (     0)\n",
      "            MSTJ( 21):      1 (     2)\n",
      "            PARJ( 21):  0.420 ( 0.360)\n",
      "            MSTU( 22):  50000 (    10)\n",
      "            MSTJ( 22):      2 (     1)\n",
      "            PARJ( 42):  0.850 ( 0.580)\n",
      "            PARJ( 71):  2.998 (10.000)\n",
      "            PARU(108):  0.008 ( 0.000)\n",
      "1                                                                              \n",
      " ******************************************************************************\n",
      " ******************************************************************************\n",
      " **                                                                          **\n",
      " **                                                                          **\n",
      " **              *......*                  Welcome to the Lund Monte Carlo!  **\n",
      " **         *:::!!:::::::::::*                                               **\n",
      " **      *::::::!!::::::::::::::*          PPP  Y   Y TTTTT H   H III   A    **\n",
      " **    *::::::::!!::::::::::::::::*        P  P  Y Y    T   H   H  I   A A   **\n",
      " **   *:::::::::!!:::::::::::::::::*       PPP    Y     T   HHHHH  I  AAAAA  **\n",
      " **   *:::::::::!!:::::::::::::::::*       P      Y     T   H   H  I  A   A  **\n",
      " **    *::::::::!!::::::::::::::::*!       P      Y     T   H   H III A   A  **\n",
      " **      *::::::!!::::::::::::::* !!                                         **\n",
      " **      !! *:::!!:::::::::::*    !!       This is PYTHIA version 6.427      **\n",
      " **      !!     !* -><- *         !!       Last date of change: 12 Dec 2012  **\n",
      " **      !!     !!                !!                                         **\n",
      " **      !!     !!                !!       Now is  0 Jan 2000 at  0:00:00    **\n",
      " **      !!                       !!                                         **\n",
      " **      !!        lh             !!       Disclaimer: this program comes    **\n",
      " **      !!                       !!       without any guarantees. Beware    **\n",
      " **      !!                 hh    !!       of errors and use common sense    **\n",
      " **      !!    ll                 !!       when interpreting results.        **\n",
      " **      !!                       !!                                         **\n",
      " **      !!                                Copyright T. Sjostrand (2011)     **\n",
      " **                                                                          **\n",
      " ** An archive of program versions and documentation is found on the web:    **\n",
      " ** http://www.thep.lu.se/~torbjorn/Pythia.html                              **\n",
      " **                                                                          **\n",
      " ** When you cite this program, the official reference is to the 6.4 manual: **\n",
      " ** T. Sjostrand, S. Mrenna and P. Skands, JHEP05 (2006) 026                 **\n",
      " ** (LU TP 06-13, FERMILAB-PUB-06-052-CD-T) [hep-ph/0603175].                **\n",
      " **                                                                          **\n",
      " ** Also remember that the program, to a large extent, represents original   **\n",
      " ** physics research. Other publications of special relevance to your        **\n",
      " ** studies may therefore deserve separate mention.                          **\n",
      " **                                                                          **\n",
      " ** Main author: Torbjorn Sjostrand; Department of Theoretical Physics,      **\n",
      " **   Lund University, Solvegatan 14A, S-223 62 Lund, Sweden;                **\n",
      " **   phone: + 46 - 46 - 222 48 16; e-mail: torbjorn@thep.lu.se              **\n",
      " ** Author: Stephen Mrenna; Computing Division, GDS Group,                   **\n",
      " **   Fermi National Accelerator Laboratory, MS 234, Batavia, IL 60510, USA; **\n",
      " **   phone: + 1 - 630 - 840 - 2556; e-mail: mrenna@fnal.gov                 **\n",
      " ** Author: Peter Skands; CERN/PH-TH, CH-1211 Geneva, Switzerland            **\n",
      " **   phone: + 41 - 22 - 767 24 47; e-mail: peter.skands@cern.ch             **\n",
      " **                                                                          **\n",
      " **                                                                          **\n",
      " ******************************************************************************\n",
      " ******************************************************************************\n",
      "\n",
      "     Advisory warning type 9 given after        1 PYEXEC calls:\n",
      "     (PYKFIN:) PARJ(18)<1 combined with 0<MSTJ(12)<5 option\n",
      "\n",
      "     Advisory warning type 9 given after        3 PYEXEC calls:\n",
      "     (PYKFIN:) PARJ(18)<1 combined with 0<MSTJ(12)<5 option\n",
      "\n",
      "     Advisory warning type 9 given after        6 PYEXEC calls:\n",
      "     (PYKFIN:) PARJ(18)<1 combined with 0<MSTJ(12)<5 option\n",
      "\n",
      "     Advisory warning type 9 given after        8 PYEXEC calls:\n",
      "     (PYKFIN:) PARJ(18)<1 combined with 0<MSTJ(12)<5 option\n",
      "\n",
      "     Advisory warning type 9 given after       10 PYEXEC calls:\n",
      "     (PYKFIN:) PARJ(18)<1 combined with 0<MSTJ(12)<5 option\n",
      "\n",
      "     Advisory warning type 9 given after       12 PYEXEC calls:\n",
      "     (PYKFIN:) PARJ(18)<1 combined with 0<MSTJ(12)<5 option\n",
      "\n",
      "     Advisory warning type 9 given after       14 PYEXEC calls:\n",
      "     (PYKFIN:) PARJ(18)<1 combined with 0<MSTJ(12)<5 option\n",
      "\n",
      "     Advisory warning type 9 given after       16 PYEXEC calls:\n",
      "     (PYKFIN:) PARJ(18)<1 combined with 0<MSTJ(12)<5 option\n",
      "\n",
      "     Advisory warning type 9 given after       18 PYEXEC calls:\n",
      "     (PYKFIN:) PARJ(18)<1 combined with 0<MSTJ(12)<5 option\n",
      "\n",
      "     Advisory warning type 9 given after       20 PYEXEC calls:\n",
      "     (PYKFIN:) PARJ(18)<1 combined with 0<MSTJ(12)<5 option\n"
     ]
    }
   ],
   "source": [
    "n_bins = 30\n",
    "bins = np.linspace(-1,1.,n_bins+1)\n",
    "grid = 0.5*(bins[1:] + bins[:-1])\n",
    "widths = (bins[1:] - bins[:-1])\n",
    "urq_pions = np.zeros(n_bins)\n",
    "urq_protons = np.zeros(n_bins)\n",
    "eta_bins = np.linspace(-7,7,n_bins+1)\n",
    "eta_grid = 0.5*(eta_bins[1:] + eta_bins[:-1])\n",
    "wdths_eta = (eta_bins[1:] - eta_bins[:-1])\n",
    "urq_charged_eta = np.zeros(n_bins)\n",
    "\n",
    "n_events = 10000\n",
    "norm = 1./float(n_events)\n",
    "\n",
    "# This\n",
    "for event in generator.event_generator(event_kinematics, n_events):\n",
    "    event.filter_final_state_charged()\n",
    "    urq_protons += norm*np.histogram(event.xf[event.p_ids == 2212],bins=bins)[0]\n",
    "    urq_pions += norm*np.histogram(event.xf[np.abs(event.p_ids) == 211],bins=bins)[0]\n",
    "    urq_charged_eta += norm*np.histogram(event.eta,bins=eta_bins)[0]"
   ]
  },
  {
   "cell_type": "code",
   "execution_count": 28,
   "metadata": {},
   "outputs": [
    {
     "name": "stdout",
     "output_type": "stream",
     "text": [
      "[0.         0.03333333 0.06666667 0.1        0.13333333 0.16666667\n",
      " 0.2        0.23333333 0.26666667 0.3        0.33333333 0.36666667\n",
      " 0.4        0.43333333 0.46666667 0.5        0.53333333 0.56666667\n",
      " 0.6        0.63333333 0.66666667 0.7        0.73333333 0.76666667\n",
      " 0.8        0.83333333 0.86666667 0.9        0.93333333 0.96666667\n",
      " 1.        ]\n",
      "[-7.         -6.53333333 -6.06666667 -5.6        -5.13333333 -4.66666667\n",
      " -4.2        -3.73333333 -3.26666667 -2.8        -2.33333333 -1.86666667\n",
      " -1.4        -0.93333333 -0.46666667  0.          0.46666667  0.93333333\n",
      "  1.4         1.86666667  2.33333333  2.8         3.26666667  3.73333333\n",
      "  4.2         4.66666667  5.13333333  5.6         6.06666667  6.53333333\n",
      "  7.        ]\n"
     ]
    }
   ],
   "source": [
    "print(bins)\n",
    "print(np.linspace(-7,7,n_bins+1))\n"
   ]
  },
  {
   "cell_type": "code",
   "execution_count": 7,
   "metadata": {},
   "outputs": [],
   "source": [
    "sib_pions = np.zeros(n_bins)\n",
    "sib_protons = np.zeros(n_bins)\n",
    "sib_charged_eta = np.zeros(n_bins)\n",
    "# This\n",
    "for event in sibyll.event_generator(event_kinematics, n_events):\n",
    "    event.filter_final_state_charged()\n",
    "    sib_protons += norm*np.histogram(event.xf[event.p_ids == 2212],bins=bins)[0]\n",
    "    sib_pions += norm*np.histogram(event.xf[np.abs(event.p_ids) == 211],bins=bins)[0]\n",
    "    sib_charged_eta += norm*np.histogram(event.eta,bins=eta_bins)[0]"
   ]
  },
  {
   "cell_type": "code",
   "execution_count": 8,
   "metadata": {},
   "outputs": [
    {
     "data": {
      "text/plain": [
       "[]"
      ]
     },
     "execution_count": 8,
     "metadata": {},
     "output_type": "execute_result"
    },
    {
     "data": {
      "image/png": "[encoded data removed]",
      "text/plain": [
       "<Figure size 432x288 with 1 Axes>"
      ]
     },
     "metadata": {
      "needs_background": "light"
     },
     "output_type": "display_data"
    }
   ],
   "source": [
    "l=plt.plot(grid, urq_protons/widths)[0]\n",
    "plt.plot(grid, sib_protons/widths,c=l.get_color(), ls='--',label='SIBYLL2.3c')\n",
    "l=plt.plot(grid, urq_pions/widths)[0]\n",
    "plt.plot(grid, sib_pions/widths,c=l.get_color(), ls='--',label='SIBYLL2.3c')\n",
    "plt.ylim(1e-2,)\n",
    "plt.semilogy()"
   ]
  },
  {
   "cell_type": "code",
   "execution_count": 9,
   "metadata": {},
   "outputs": [
    {
     "data": {
      "text/plain": [
       "<matplotlib.legend.Legend at 0x7fa16ea73520>"
      ]
     },
     "execution_count": 9,
     "metadata": {},
     "output_type": "execute_result"
    },
    {
     "data": {
      "image/png": "[encoded data removed]",
      "text/plain": [
       "<Figure size 432x288 with 1 Axes>"
      ]
     },
     "metadata": {
      "needs_background": "light"
     },
     "output_type": "display_data"
    }
   ],
   "source": [
    "l=plt.plot(eta_grid, urq_charged_eta/wdths_eta)[0]\n",
    "plt.plot(eta_grid, sib_charged_eta/wdths_eta,c=l.get_color(), ls='--',label='SIBYLL2.3c')\n",
    "plt.ylim(0,7)\n",
    "plt.grid()\n",
    "plt.legend()\n",
    "# plt.semilogy()"
   ]
  },
  {
   "cell_type": "code",
   "execution_count": 10,
   "metadata": {},
   "outputs": [],
   "source": [
    "event_kinematics = EventKinematics(\n",
    "    plab=1000. * GeV,\n",
    "    p1pdg=2212,\n",
    "    p2pdg=2212\n",
    "#     nuc1_prop=(4,2),\n",
    "#     nuc2_prop=(12,6)\n",
    ")"
   ]
  },
  {
   "cell_type": "code",
   "execution_count": 11,
   "metadata": {},
   "outputs": [],
   "source": [
    "# event_kinematics = EventKinematics(\n",
    "#     plab=1000. * GeV,\n",
    "# #     p1pdg=2212,\n",
    "# #     p2pdg=2212\n",
    "#     nuc1_prop=(4,2),\n",
    "#     nuc2_prop=(12,6)\n",
    "# )\n",
    "n_bins = 30\n",
    "# bins = np.linspace(-1,1.,n_bins+1)\n",
    "bins = np.logspace(-1,1,n_bins+1)\n",
    "grid = 0.5*(bins[1:] + bins[:-1])\n",
    "widths = (bins[1:] - bins[:-1])\n",
    "urq_pions = np.zeros(n_bins)\n",
    "urq_protons = np.zeros(n_bins)\n",
    "\n",
    "n_events = 1000\n",
    "norm = 1./float(n_events)\n",
    "\n",
    "for event in generator.event_generator(event_kinematics, n_events):\n",
    "#     event.filter_final_state_charged()\n",
    "    event.filter_final_state_charged()\n",
    "    urq_protons += norm*np.histogram(event.en[event.p_ids == 2212],bins=bins)[0]\n",
    "    urq_pions += norm*np.histogram(event.en[np.abs(event.p_ids) == 211],bins=bins)[0]\n"
   ]
  },
  {
   "cell_type": "code",
   "execution_count": 12,
   "metadata": {},
   "outputs": [
    {
     "data": {
      "text/plain": [
       "[<matplotlib.lines.Line2D at 0x7fa16e9d78e0>]"
      ]
     },
     "execution_count": 12,
     "metadata": {},
     "output_type": "execute_result"
    },
    {
     "data": {
      "image/png": "[encoded data removed]",
      "text/plain": [
       "<Figure size 432x288 with 1 Axes>"
      ]
     },
     "metadata": {
      "needs_background": "light"
     },
     "output_type": "display_data"
    }
   ],
   "source": [
    "plt.semilogx(grid, urq_pions)\n",
    "plt.plot(grid, urq_protons)"
   ]
  },
  {
   "cell_type": "code",
   "execution_count": 13,
   "metadata": {},
   "outputs": [],
   "source": [
    "_ = [generator.set_stable(p) for p in [421,-421,411,-411]]\n",
    "_ = [sibyll.set_stable(p) for p in [421,-421,411,-411]]"
   ]
  },
  {
   "cell_type": "code",
   "execution_count": 14,
   "metadata": {},
   "outputs": [],
   "source": [
    "n_bins = 30\n",
    "bins = np.linspace(0,1.,n_bins+1)\n",
    "grid = 0.5*(bins[1:] + bins[:-1])\n",
    "widths = (bins[1:] - bins[:-1])\n",
    "dpm_dpm = np.zeros(n_bins)\n",
    "d0_dpm = np.zeros(n_bins)\n",
    "dpm_sib = np.zeros(n_bins)\n",
    "d0_sib = np.zeros(n_bins)\n",
    "n_events = 200000\n",
    "norm = 1./float(n_events)\n",
    "\n",
    "# This\n",
    "for event in generator.event_generator(event_kinematics, n_events):\n",
    "    event.filter_final_state()\n",
    "    d0_dpm += norm*np.histogram(np.abs(event.xf[(event.p_ids == 421) | (event.p_ids == -421)]),bins=bins)[0]\n",
    "    dpm_dpm += norm*np.histogram(np.abs(event.xf[(event.p_ids == 411) | (event.p_ids == -411)]),bins=bins)[0]\n",
    "for event in sibyll.event_generator(event_kinematics, n_events):\n",
    "    event.filter_final_state()\n",
    "    d0_sib += norm*np.histogram(np.abs(event.xf[(event.p_ids == 421) | (event.p_ids == -421)]),bins=bins)[0]\n",
    "    dpm_sib += norm*np.histogram(np.abs(event.xf[(event.p_ids == 411) | (event.p_ids == -411)]),bins=bins)[0]"
   ]
  },
  {
   "cell_type": "code",
   "execution_count": 16,
   "metadata": {},
   "outputs": [
    {
     "data": {
      "text/plain": [
       "<matplotlib.legend.Legend at 0x7fa1961b90d0>"
      ]
     },
     "execution_count": 16,
     "metadata": {},
     "output_type": "execute_result"
    },
    {
     "data": {
      "image/png": "[encoded data removed]",
      "text/plain": [
       "<Figure size 432x288 with 1 Axes>"
      ]
     },
     "metadata": {
      "needs_background": "light"
     },
     "output_type": "display_data"
    }
   ],
   "source": [
    "l=plt.plot(grid, d0_sib/widths, ls='--')[0]\n",
    "plt.plot(grid, dpm_sib/widths,c=l.get_color(),label='SIBYLL2.3c')\n",
    "l=plt.plot(grid, d0_dpm/widths, ls='--')[0]\n",
    "plt.plot(grid, dpm_dpm/widths,c=l.get_color(),label='DPMJET-III-2019.1')\n",
    "# l=plt.plot(grid, urq_pions/widths)[0]\n",
    "# plt.plot(grid, sib_pions/widths,c=l.get_color(), ls='--',label='SIBYLL2.3c')\n",
    "# plt.ylim(1e-2,)\n",
    "plt.loglog()\n",
    "plt.legend()"
   ]
  },
  {
   "cell_type": "code",
   "execution_count": null,
   "metadata": {},
   "outputs": [],
   "source": []
  }
 ],
 "metadata": {
  "kernelspec": {
   "display_name": "Python 3.8.10 ('impy_venv_01')",
   "language": "python",
   "name": "python3"
  },
  "language_info": {
   "codemirror_mode": {
    "name": "ipython",
    "version": 3
   },
   "file_extension": ".py",
   "mimetype": "text/x-python",
   "name": "python",
   "nbconvert_exporter": "python",
   "pygments_lexer": "ipython3",
   "version": "3.8.10"
  },
  "vscode": {
   "interpreter": {
    "hash": "a3ee9173e926bff8a61cc575704e624ccaa99865d972260364b36a5c9c660255"
   }
  }
 },
 "nbformat": 4,
 "nbformat_minor": 4
}
