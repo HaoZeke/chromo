{
 "cells": [
  {
   "cell_type": "code",
   "execution_count": 1,
   "metadata": {},
   "outputs": [],
   "source": [
    "import matplotlib.pyplot as plt\n",
    "import sys\n",
    "import os\n",
    "import numpy as np\n",
    "from tqdm import tqdm\n",
    "%load_ext autoreload\n",
    "%autoreload 2\n"
   ]
  },
  {
   "cell_type": "code",
   "execution_count": 2,
   "metadata": {},
   "outputs": [],
   "source": [
    "from impy.definitions import *\n",
    "from impy.constants import *\n",
    "from impy.kinematics import EventKinematics\n",
    "from impy import impy_config, pdata"
   ]
  },
  {
   "cell_type": "code",
   "execution_count": 3,
   "metadata": {},
   "outputs": [],
   "source": [
    "# The event kinematics objects define all properties of the simulations setup.\n",
    "# Some generators (such as DPMJET) require a maximal energy and nucleus mass to be\n",
    "# set during initialization. This fist object should define that boundary \n",
    "\n",
    "event_kinematics = EventKinematics(\n",
    "    ecm= 7 * TeV,\n",
    "    p1pdg=2212,\n",
    "    p2pdg=2212\n",
    "    # nuc2_prop=(16,8)\n",
    ")"
   ]
  },
  {
   "cell_type": "code",
   "execution_count": 4,
   "metadata": {},
   "outputs": [],
   "source": [
    "# Configuration options can be set via the config. It's a yaml file in impy/impy_config.yaml\n",
    "impy_config[\"user_frame\"] = 'center-of-mass'\n",
    "impy_config['tau_stable'] = 10e-12\n",
    "impy_config['pi0_stable'] = True\n",
    "# impy_config['debug_level'] = 5"
   ]
  },
  {
   "cell_type": "code",
   "execution_count": 5,
   "metadata": {},
   "outputs": [
    {
     "name": "stdout",
     "output_type": "stream",
     "text": [
      "impy.models.dpmjetIII.DpmjetIIIRun::init_generator(): Initializing DPMJET-III\n"
     ]
    }
   ],
   "source": [
    "# Create an instance of SIBYLL23D\n",
    "m1 = 'SIBYLL23D'\n",
    "gen_m1 = make_generator_instance(interaction_model_by_tag[m1])\n",
    "gen_m1.init_generator(event_kinematics)\n",
    "\n",
    "# Create an instance of DPMJETIII191\n",
    "m2 = 'DPMJETIII191'\n",
    "gen_m2 = make_generator_instance(interaction_model_by_tag[m2])\n",
    "gen_m2.init_generator(event_kinematics)\n"
   ]
  },
  {
   "cell_type": "code",
   "execution_count": 6,
   "metadata": {},
   "outputs": [],
   "source": [
    "# Example: generating pseudorapidity (eta) and Feynman-x distributions "
   ]
  },
  {
   "cell_type": "code",
   "execution_count": 7,
   "metadata": {},
   "outputs": [],
   "source": [
    "n_bins = 30\n",
    "# Grid for Feynman-x\n",
    "bins = np.linspace(-1,1.,n_bins+1)\n",
    "grid = 0.5*(bins[1:] + bins[:-1])\n",
    "widths = np.diff(bins)\n",
    "\n",
    "# Pseudorapidity\n",
    "eta_bins = np.linspace(-7,7,n_bins+1)\n",
    "eta_grid = 0.5*(eta_bins[1:] + eta_bins[:-1])\n",
    "widths_eta = np.diff(eta_bins)\n",
    "\n",
    "n_events = 10000\n",
    "norm = 1./float(n_events)\n",
    "\n",
    "\n",
    "# We want to simulate pp interactions at 1 TeV center-of-mass\n",
    "event_kinematics = EventKinematics(\n",
    "    ecm= 1 * TeV,\n",
    "    p1pdg=2212,\n",
    "    p2pdg=2212\n",
    ")"
   ]
  },
  {
   "cell_type": "code",
   "execution_count": 8,
   "metadata": {},
   "outputs": [
    {
     "name": "stderr",
     "output_type": "stream",
     "text": [
      "10000it [00:02, 4283.10it/s]\n"
     ]
    }
   ],
   "source": [
    "# Storage for xf histograms\n",
    "m1_pions = np.zeros(n_bins)\n",
    "m1_protons = np.zeros(n_bins)\n",
    "m1_negpions = np.zeros(n_bins)\n",
    "\n",
    "# For all charged particles\n",
    "m1_charged_eta = np.zeros(n_bins)\n",
    "\n",
    "# This loop generates the events using the energy, projectile, target and frame defined by event kinematics object\n",
    "for event in tqdm(gen_m1.event_generator(event_kinematics, n_events)):\n",
    "    # Filter the event stack for charged particles in final state. To include neutral use filter_final_state() instead.\n",
    "    event.filter_final_state_charged()\n",
    "    m1_protons += norm/widths*np.histogram(event.xf[event.p_ids == 2212],bins=bins)[0]\n",
    "    m1_pions += norm/widths*np.histogram(event.xf[event.p_ids == 211],bins=bins)[0]\n",
    "    m1_negpions += norm/widths*np.histogram(event.xf[event.p_ids == -211],bins=bins)[0]\n",
    "\n",
    "    # To select all charged particles don't filter for particle ID\n",
    "    m1_charged_eta += norm/widths_eta*np.histogram(event.eta, bins=eta_bins)[0]\n",
    "    "
   ]
  },
  {
   "cell_type": "code",
   "execution_count": 9,
   "metadata": {},
   "outputs": [
    {
     "name": "stderr",
     "output_type": "stream",
     "text": [
      "10000it [00:04, 2442.10it/s]\n"
     ]
    }
   ],
   "source": [
    "# Do the same for DPMJETIII191\n",
    "\n",
    "# Storage for histograms\n",
    "m2_pions = np.zeros(n_bins)\n",
    "m2_protons = np.zeros(n_bins)\n",
    "m2_negpions = np.zeros(n_bins)\n",
    "\n",
    "# For all charged particles\n",
    "m2_charged_eta = np.zeros(n_bins)\n",
    "\n",
    "# This loop generates the events using the energy, projectile, target and frame defined by event kinematics object\n",
    "for event in tqdm(gen_m2.event_generator(event_kinematics, n_events)):\n",
    "    # Filter the event stack for charged particles in final state. To include neutral use filter_final_state() instead.\n",
    "    event.filter_final_state_charged()\n",
    "    m2_protons += norm/widths*np.histogram(event.xf[event.p_ids == 2212],bins=bins)[0]\n",
    "    m2_pions += norm/widths*np.histogram(event.xf[event.p_ids == 211],bins=bins)[0]\n",
    "    m2_negpions += norm/widths*np.histogram(event.xf[event.p_ids == -211],bins=bins)[0]\n",
    "\n",
    "    # To select all charged particles don't filter for particle ID\n",
    "    m2_charged_eta += norm/widths_eta*np.histogram(event.eta, bins=eta_bins)[0]\n",
    "    "
   ]
  },
  {
   "cell_type": "code",
   "execution_count": 10,
   "metadata": {},
   "outputs": [
    {
     "data": {
      "text/plain": [
       "<matplotlib.legend.Legend at 0x7f96c87c5b80>"
      ]
     },
     "execution_count": 10,
     "metadata": {},
     "output_type": "execute_result"
    },
    {
     "data": {
      "image/png": "[encoded data removed]",
      "text/plain": [
       "<Figure size 432x288 with 1 Axes>"
      ]
     },
     "metadata": {
      "needs_background": "light"
     },
     "output_type": "display_data"
    }
   ],
   "source": [
    "l=plt.plot(grid, m1_protons,label=m1 + ', protons')[0]\n",
    "plt.plot(grid, m2_protons,c=l.get_color(), ls='--',label=m2 + ', protons')\n",
    "\n",
    "plt.ylim(1e-1,)\n",
    "plt.semilogy()\n",
    "plt.legend()"
   ]
  },
  {
   "cell_type": "code",
   "execution_count": 11,
   "metadata": {},
   "outputs": [
    {
     "data": {
      "text/plain": [
       "<matplotlib.legend.Legend at 0x7f96c8d56f10>"
      ]
     },
     "execution_count": 11,
     "metadata": {},
     "output_type": "execute_result"
    },
    {
     "data": {
      "image/png": "[encoded data removed]",
      "text/plain": [
       "<Figure size 432x288 with 1 Axes>"
      ]
     },
     "metadata": {
      "needs_background": "light"
     },
     "output_type": "display_data"
    }
   ],
   "source": [
    "l=plt.plot(grid, m1_pions,label=m1 + ', pi+')[0]\n",
    "plt.plot(grid, m2_pions,c=l.get_color(), ls='--',label=m2 + ', pi+')\n",
    "l=plt.plot(grid, m1_pions,label=m1 + ', pi-')[0]\n",
    "plt.plot(grid, m2_pions,c=l.get_color(), ls='--',label=m2 + ', pi-')\n",
    "\n",
    "plt.ylim(1e-2,)\n",
    "plt.semilogy()\n",
    "plt.legend()"
   ]
  },
  {
   "cell_type": "code",
   "execution_count": 12,
   "metadata": {},
   "outputs": [
    {
     "data": {
      "text/plain": [
       "<matplotlib.legend.Legend at 0x7f96a2f8ca60>"
      ]
     },
     "execution_count": 12,
     "metadata": {},
     "output_type": "execute_result"
    },
    {
     "data": {
      "image/png": "[encoded data removed]",
      "text/plain": [
       "<Figure size 432x288 with 1 Axes>"
      ]
     },
     "metadata": {
      "needs_background": "light"
     },
     "output_type": "display_data"
    }
   ],
   "source": [
    "l=plt.plot(eta_grid, m1_charged_eta, label=m1)[0]\n",
    "plt.plot(eta_grid, m2_charged_eta,c=l.get_color(), ls='--', label=m2)\n",
    "plt.ylim(0,5)\n",
    "plt.legend()"
   ]
  },
  {
   "cell_type": "code",
   "execution_count": 13,
   "metadata": {},
   "outputs": [
    {
     "name": "stdout",
     "output_type": "stream",
     "text": [
      "Event 10000   pid      px         py         pz         e         \n",
      "      0:      211   6.69e-01   1.72e-02   1.19e+00   1.37e+00\n",
      "      1:     2212  -7.75e-01  -1.88e-01   2.36e+00   2.66e+00\n",
      "      2:      321  -1.08e+00  -7.22e-03  -1.37e-02   1.19e+00\n",
      "      3:     -211  -1.07e+00   5.26e-01  -4.13e-01   1.27e+00\n",
      "      4:      211  -2.98e-01  -6.68e-02  -6.18e-01   7.03e-01\n",
      "      5:      321   2.78e-01   6.70e-01  -1.34e-01   8.87e-01\n",
      "      6:      211  -7.19e-02  -1.83e-01   6.61e+00   6.62e+00\n",
      "      7:     -211   2.38e-01  -1.80e-01   1.51e+00   1.55e+00\n",
      "      8:     -211   2.25e-01  -4.65e-01  -9.64e-01   1.10e+00\n",
      "      9:     -211  -2.18e-01   9.47e-01  -3.19e+01   3.19e+01\n",
      "     10:      211  -4.02e-01  -7.05e-01  -1.46e+02   1.46e+02\n",
      "     11:      211  -8.08e-02   3.29e-01  -5.85e+01   5.85e+01\n",
      "     12:     -211  -1.48e-01   7.08e-01   1.44e+00   1.61e+00\n",
      "     13:     -321  -1.57e-01   6.86e-01   1.78e+01   1.78e+01\n",
      "     14:      321   2.69e-01  -2.42e-01   8.60e+00   8.62e+00\n",
      "     15:     -211   7.98e-02   8.38e-01   1.74e+01   1.74e+01\n",
      "     16:      211  -5.19e-02  -2.13e-01  -6.30e-01   6.81e-01\n",
      "     17:     -211   2.06e-01  -1.47e-01  -6.15e-01   6.79e-01\n",
      "     18:      211  -1.91e-01  -2.17e-01   1.39e+00   1.43e+00\n",
      "     19:     -211   1.77e-01   1.20e-01  -7.91e-02   2.68e-01\n",
      "     20:      211  -2.40e-01  -1.93e-01   1.98e+00   2.00e+00\n",
      "     21:     -211  -5.35e-02   1.01e-01   1.09e+00   1.11e+00\n",
      "     22:      211   2.63e-01  -4.13e-03   3.75e-01   4.79e-01\n",
      "     23:      211   2.75e-03  -3.63e-01   1.69e-01   4.24e-01\n",
      "     24:     -211  -1.60e-01   1.33e-02   2.92e-01   3.61e-01\n",
      "     25:      321   3.01e-01  -1.80e-01   1.65e+00   1.76e+00\n",
      "     26:     -211  -1.04e-01   1.40e-01   1.75e+00   1.77e+00\n",
      "     27:     -211   2.13e-01   1.22e-02   2.37e-02   2.56e-01\n",
      "     28:     -211  -1.47e-01   7.01e-02   4.30e-01   4.80e-01\n",
      "     29:     -211   6.02e-01   7.70e-02   2.01e-01   6.55e-01\n",
      "     30:      211  -9.70e-01   2.47e-01   8.60e-01   1.33e+00\n",
      "     31:     -211  -3.86e-01   1.07e-01   5.26e-02   4.28e-01\n",
      "     32:      321  -7.43e-01   8.22e-01   7.99e-01   1.45e+00\n",
      "     33:     -211   9.32e-01  -5.15e-01   2.58e+00   2.79e+00\n",
      "     34:     -321  -8.31e-02  -1.48e-01   8.65e-01   1.01e+00\n",
      "     35:      211   4.01e-01  -1.45e-01   1.22e+00   1.30e+00\n",
      "     36:      211   7.33e-01   1.35e-01   1.72e+00   1.88e+00\n",
      "     37:     -211   3.51e-01  -2.31e-01   1.70e+00   1.75e+00\n",
      "     38:     -211   1.34e-01  -4.14e-01  -1.07e+00   1.16e+00\n",
      "     39:      211   2.04e-01  -1.24e-01  -1.02e+00   1.05e+00\n",
      "     40:     -211   1.19e-01  -1.53e-01  -5.74e-01   6.22e-01\n",
      "     41:     -321  -1.15e-01  -5.61e-03  -5.86e-01   7.75e-01\n",
      "     42:      211   3.56e-01   6.50e-03  -8.87e-01   9.66e-01\n",
      "     43:      211   1.29e-01  -2.92e-01   2.29e+00   2.32e+00\n",
      "     44:     -211  -2.01e-02   4.07e-01   3.60e+00   3.63e+00\n",
      "     45:     -211   3.00e-01  -3.00e-01   4.09e+00   4.12e+00\n",
      "     46:      211   7.90e-01   5.25e-02   3.92e+00   4.01e+00\n",
      "     47:      211  -1.62e-01  -1.86e-01   1.62e-01   3.26e-01\n",
      "     48:      211   4.47e-01   2.76e-01  -2.17e-01   5.86e-01\n",
      "     49:     -211   7.93e-02   2.37e-01  -9.54e-01   9.96e-01\n",
      "     50:      211  -3.60e-01   4.72e-01  -9.80e-01   1.15e+00\n",
      "     51:     -211   3.36e-01  -4.30e-01  -5.97e+01   5.97e+01\n",
      "     52:      211   1.70e-01  -2.95e-01  -3.40e-01   5.01e-01\n",
      "     53:      211   1.88e-01  -9.54e-02  -1.82e-01   3.12e-01\n",
      "     54:      211   1.57e-01   5.80e-02  -4.01e-01   4.56e-01\n",
      "     55:     -211   5.78e-02  -8.84e-02  -5.32e-01   5.60e-01\n",
      "     56:      211   4.87e-01  -5.49e-01   7.66e+00   7.70e+00\n",
      "     57:     -211   1.63e-01   2.24e-01   3.26e+00   3.27e+00\n",
      "Event 10001   pid      px         py         pz         e         \n",
      "      0:     2212  -2.04e-01   1.81e-01   5.00e+02   5.00e+02\n",
      "      1:     2212   6.78e-02   1.54e-01  -3.26e+02   3.26e+02\n",
      "      2:      211   2.26e-01  -4.36e-01  -6.15e+01   6.15e+01\n",
      "      3:     -211  -2.07e-01  -1.08e-01  -8.86e+00   8.87e+00\n",
      "      4:      211  -6.61e-03   1.98e-01  -7.88e+01   7.88e+01\n",
      "      5:     -211   1.20e-01   4.45e-02  -1.38e+01   1.38e+01\n",
      "Event 10002   pid      px         py         pz         e         \n",
      "      0:     2212  -6.92e-01   4.75e-01   2.17e+02   2.17e+02\n",
      "      1:      321   5.06e-02   2.24e-01   1.82e+01   1.82e+01\n",
      "      2:     -211  -6.32e-02  -1.15e-01   4.29e+01   4.29e+01\n",
      "      3:    -2212   8.91e-02  -1.38e-02   5.12e+00   5.21e+00\n",
      "      4:      211   1.56e-01   4.66e-01  -6.53e-01   8.29e-01\n",
      "      5:     -211   3.83e-01  -2.88e-01  -3.22e+00   3.26e+00\n",
      "      6:      211   1.04e-01   3.87e-01  -6.22e-01   7.53e-01\n",
      "      7:     2212  -1.20e-01   1.46e-01  -1.63e+02   1.63e+02\n",
      "      8:      321  -3.90e-02  -4.87e-01   7.73e+00   7.76e+00\n",
      "      9:     -211   7.93e-02   4.34e-02   6.11e-02   1.77e-01\n",
      "     10:      211   1.08e-01  -4.62e-01  -9.24e-01   1.05e+00\n",
      "     11:     -211   3.56e-01   3.82e-01  -2.71e-01   6.05e-01\n",
      "     12:      211  -9.20e-02  -5.57e-01  -2.45e+00   2.51e+00\n",
      "     13:     -321  -5.51e-02  -9.37e-03  -1.75e+00   1.82e+00\n",
      "     14:      321   7.06e-01  -4.13e-01  -2.92e+00   3.07e+00\n",
      "     15:     -211  -7.20e-01   2.74e-01  -1.61e+01   1.61e+01\n",
      "     16:      211   7.87e-02   2.10e-02   1.12e+01   1.12e+01\n",
      "     17:     -211  -2.52e-02   1.78e-02   5.32e+00   5.32e+00\n",
      "     18:      211  -1.83e-01  -6.00e-02   6.91e-01   7.30e-01\n",
      "     19:     -211   3.70e-02  -1.48e-01   3.45e-01   4.02e-01\n",
      "     20:      321   2.12e-01  -3.12e-01  -1.20e+02   1.20e+02\n",
      "     21:     -211  -1.20e-01   2.11e-01  -4.33e+01   4.33e+01\n",
      "     22:      211  -4.02e-01   1.47e-01   3.62e+00   3.64e+00\n",
      "     23:     -211   2.44e-01   2.56e-01   6.21e+00   6.22e+00\n",
      "     24:      211  -2.90e-01   7.67e-02   2.09e-01   3.92e-01\n",
      "     25:     -211   3.25e-03  -7.35e-02   4.60e-02   1.64e-01\n",
      "     26:      211   3.94e-01  -1.84e-01   7.32e-03   4.57e-01\n",
      "     27:     -211   1.63e-01   2.56e-01  -5.76e-02   3.39e-01\n",
      "     28:      211  -1.53e-01   1.39e-02  -3.51e-01   4.08e-01\n",
      "     29:     -211   1.37e-01  -6.07e-02  -1.35e+00   1.36e+00\n",
      "     30:      211  -2.86e-02   8.42e-02   1.11e-02   1.66e-01\n",
      "     31:     -211  -1.84e-01  -7.68e-02   5.36e-02   2.49e-01\n"
     ]
    }
   ],
   "source": [
    "# Looking at event lists (change gen_m1 to gen_m2 for DPMJET)\n",
    "\n",
    "for event in gen_m1.event_generator(event_kinematics, 3):\n",
    "    event.filter_final_state_charged()\n",
    "    print('Event {5:4}   {0:8} {1:10} {2:10} {3:10} {4:10}'.format('pid', 'px', 'py', 'pz', 'e', event.nevent))\n",
    "    for ip, (pid, x, y, z, e) in enumerate(zip(event.p_ids, event.px, event.py, event.pz, event.en)):\n",
    "        print('   {5:4}: {0:8} {1:10.2e} {2:10.2e} {3:10.2e} {4:10.2e}'.format(pid, x, y, z, e, ip))"
   ]
  },
  {
   "cell_type": "code",
   "execution_count": null,
   "metadata": {},
   "outputs": [],
   "source": []
  },
  {
   "cell_type": "code",
   "execution_count": null,
   "metadata": {},
   "outputs": [],
   "source": []
  }
 ],
 "metadata": {
  "interpreter": {
   "hash": "6a1aeaf69cf65de37679f40e12fec88dc269dea4561fca16c9465ac8f02a6b39"
  },
  "kernelspec": {
   "display_name": "Python 3.9.5 64-bit ('base': conda)",
   "name": "python3"
  },
  "language_info": {
   "codemirror_mode": {
    "name": "ipython",
    "version": 3
   },
   "file_extension": ".py",
   "mimetype": "text/x-python",
   "name": "python",
   "nbconvert_exporter": "python",
   "pygments_lexer": "ipython3",
   "version": "3.9.5"
  }
 },
 "nbformat": 4,
 "nbformat_minor": 4
}