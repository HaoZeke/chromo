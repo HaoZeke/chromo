{
 "cells": [
  {
   "cell_type": "code",
   "execution_count": 1,
   "metadata": {},
   "outputs": [],
   "source": [
    "import matplotlib.pyplot as plt\n",
    "import sys\n",
    "import os\n",
    "import numpy as np\n",
    "%load_ext autoreload\n",
    "%autoreload 2"
   ]
  },
  {
   "cell_type": "code",
   "execution_count": 2,
   "metadata": {},
   "outputs": [
    {
     "name": "stdout",
     "output_type": "stream",
     "text": [
      "/mnt/c/Users/afedy/OneDrive/devel/git/impy\n"
     ]
    }
   ],
   "source": [
    "root_dir = os.path.abspath('./')\n",
    "sys.path.append(root_dir)\n",
    "sys.path.append(os.path.join(root_dir,'../DPMJET-III-gitlab'))\n",
    "print root_dir\n",
    "\n",
    "pythia_dir = os.path.join(\n",
    "    os.path.expanduser('~'), 'devel', 'apps', 'pythia8240')\n",
    "sys.path.append(os.path.join(pythia_dir, 'lib'))\n",
    "\n",
    "from impy.definitions import *\n",
    "from impy.constants import *\n",
    "from impy.kinematics import EventKinematics\n",
    "from impy.common import impy_config, pdata"
   ]
  },
  {
   "cell_type": "code",
   "execution_count": 3,
   "metadata": {},
   "outputs": [],
   "source": [
    "# AF: This is what the user interaction has to yield.\n",
    "# It is the typical expected configuration that one\n",
    "# wants to run (read pp-mode at energies not exceeding\n",
    "# 7 TeV). If you want cosmic ray energies, this should\n",
    "# be rather p-N at 10 EeV and lab frame (not yet defined).\n",
    "\n",
    "event_kinematics = EventKinematics(\n",
    "    ecm= 7000 * GeV,\n",
    "    p1pdg=2212,\n",
    "    p2pdg=2212\n",
    "#     nuc2_prop=(12,6)\n",
    ")"
   ]
  },
  {
   "cell_type": "code",
   "execution_count": 4,
   "metadata": {},
   "outputs": [],
   "source": [
    "impy_config[\"user_frame\"] = 'center-of-mass'\n",
    "impy_config['tau_stable'] = 10e-12\n",
    "impy_config['pi0_stable'] = True"
   ]
  },
  {
   "cell_type": "code",
   "execution_count": 5,
   "metadata": {},
   "outputs": [
    {
     "name": "stdout",
     "output_type": "stream",
     "text": [
      "impy.models.dpmjetIII.DpmjetIIIRun::init_generator(): Initializing DPMJET-III\n"
     ]
    }
   ],
   "source": [
    "generator = make_generator_instance(interaction_model_by_tag['DPMJETIII171'])\n",
    "generator.init_generator(event_kinematics)\n",
    "# import IPython\n",
    "# IPython.embed()\n",
    "sibyll = make_generator_instance(interaction_model_by_tag['QGSJETII04'])\n",
    "sibyll.init_generator(event_kinematics)\n"
   ]
  },
  {
   "cell_type": "code",
   "execution_count": 6,
   "metadata": {},
   "outputs": [
    {
     "name": "stdout",
     "output_type": "stream",
     "text": [
      "impy.kinematics.EventKinematics::apply_boost(): FS boost not applicable center-of-mass -> center-of-mass\n",
      "impy.kinematics.EventKinematics::apply_boost(): FS boost not applicable center-of-mass -> center-of-mass\n",
      "impy.kinematics.EventKinematics::apply_boost(): FS boost not applicable center-of-mass -> center-of-mass\n",
      "impy.kinematics.EventKinematics::apply_boost(): FS boost not applicable center-of-mass -> center-of-mass\n",
      "impy.kinematics.EventKinematics::apply_boost(): FS boost not applicable center-of-mass -> center-of-mass\n",
      "impy.kinematics.EventKinematics::apply_boost(): FS boost not applicable center-of-mass -> center-of-mass\n",
      "impy.kinematics.EventKinematics::apply_boost(): FS boost not applicable center-of-mass -> center-of-mass\n",
      "impy.kinematics.EventKinematics::apply_boost(): FS boost not applicable center-of-mass -> center-of-mass\n",
      "impy.kinematics.EventKinematics::apply_boost(): FS boost not applicable center-of-mass -> center-of-mass\n",
      "impy.kinematics.EventKinematics::apply_boost(): FS boost not applicable center-of-mass -> center-of-mass\n",
      "impy.kinematics.EventKinematics::apply_boost(): FS boost not applicable center-of-mass -> center-of-mass\n",
      "impy.kinematics.EventKinematics::apply_boost(): FS boost not applicable center-of-mass -> center-of-mass\n",
      "impy.kinematics.EventKinematics::apply_boost(): FS boost not applicable center-of-mass -> center-of-mass\n",
      "impy.kinematics.EventKinematics::apply_boost(): FS boost not applicable center-of-mass -> center-of-mass\n",
      "impy.kinematics.EventKinematics::apply_boost(): FS boost not applicable center-of-mass -> center-of-mass\n",
      "impy.kinematics.EventKinematics::apply_boost(): FS boost not applicable center-of-mass -> center-of-mass\n",
      "impy.kinematics.EventKinematics::apply_boost(): FS boost not applicable center-of-mass -> center-of-mass\n",
      "impy.kinematics.EventKinematics::apply_boost(): FS boost not applicable center-of-mass -> center-of-mass\n",
      "impy.kinematics.EventKinematics::apply_boost(): FS boost not applicable center-of-mass -> center-of-mass\n",
      "impy.kinematics.EventKinematics::apply_boost(): FS boost not applicable center-of-mass -> center-of-mass\n",
      "impy.kinematics.EventKinematics::apply_boost(): FS boost not applicable center-of-mass -> center-of-mass\n",
      "impy.kinematics.EventKinematics::apply_boost(): FS boost not applicable center-of-mass -> center-of-mass\n",
      "impy.kinematics.EventKinematics::apply_boost(): FS boost not applicable center-of-mass -> center-of-mass\n",
      "impy.kinematics.EventKinematics::apply_boost(): FS boost not applicable center-of-mass -> center-of-mass\n",
      "impy.kinematics.EventKinematics::apply_boost(): FS boost not applicable center-of-mass -> center-of-mass\n",
      "impy.kinematics.EventKinematics::apply_boost(): FS boost not applicable center-of-mass -> center-of-mass\n",
      "impy.kinematics.EventKinematics::apply_boost(): FS boost not applicable center-of-mass -> center-of-mass\n",
      "impy.kinematics.EventKinematics::apply_boost(): FS boost not applicable center-of-mass -> center-of-mass\n",
      "impy.kinematics.EventKinematics::apply_boost(): FS boost not applicable center-of-mass -> center-of-mass\n",
      "impy.kinematics.EventKinematics::apply_boost(): FS boost not applicable center-of-mass -> center-of-mass\n",
      "impy.kinematics.EventKinematics::apply_boost(): FS boost not applicable center-of-mass -> center-of-mass\n",
      "impy.kinematics.EventKinematics::apply_boost(): FS boost not applicable center-of-mass -> center-of-mass\n",
      "impy.kinematics.EventKinematics::apply_boost(): FS boost not applicable center-of-mass -> center-of-mass\n",
      "impy.kinematics.EventKinematics::apply_boost(): FS boost not applicable center-of-mass -> center-of-mass\n",
      "impy.kinematics.EventKinematics::apply_boost(): FS boost not applicable center-of-mass -> center-of-mass\n",
      "impy.kinematics.EventKinematics::apply_boost(): FS boost not applicable center-of-mass -> center-of-mass\n",
      "impy.kinematics.EventKinematics::apply_boost(): FS boost not applicable center-of-mass -> center-of-mass\n",
      "impy.kinematics.EventKinematics::apply_boost(): FS boost not applicable center-of-mass -> center-of-mass\n",
      "impy.kinematics.EventKinematics::apply_boost(): FS boost not applicable center-of-mass -> center-of-mass\n",
      "impy.kinematics.EventKinematics::apply_boost(): FS boost not applicable center-of-mass -> center-of-mass\n",
      "impy.kinematics.EventKinematics::apply_boost(): FS boost not applicable center-of-mass -> center-of-mass\n",
      "impy.kinematics.EventKinematics::apply_boost(): FS boost not applicable center-of-mass -> center-of-mass\n",
      "impy.kinematics.EventKinematics::apply_boost(): FS boost not applicable center-of-mass -> center-of-mass\n",
      "impy.kinematics.EventKinematics::apply_boost(): FS boost not applicable center-of-mass -> center-of-mass\n",
      "impy.kinematics.EventKinematics::apply_boost(): FS boost not applicable center-of-mass -> center-of-mass\n",
      "impy.kinematics.EventKinematics::apply_boost(): FS boost not applicable center-of-mass -> center-of-mass\n",
      "impy.kinematics.EventKinematics::apply_boost(): FS boost not applicable center-of-mass -> center-of-mass\n",
      "impy.kinematics.EventKinematics::apply_boost(): FS boost not applicable center-of-mass -> center-of-mass\n",
      "impy.kinematics.EventKinematics::apply_boost(): FS boost not applicable center-of-mass -> center-of-mass\n",
      "impy.kinematics.EventKinematics::apply_boost(): FS boost not applicable center-of-mass -> center-of-mass\n",
      "impy.kinematics.EventKinematics::apply_boost(): FS boost not applicable center-of-mass -> center-of-mass\n",
      "impy.kinematics.EventKinematics::apply_boost(): FS boost not applicable center-of-mass -> center-of-mass\n",
      "impy.kinematics.EventKinematics::apply_boost(): FS boost not applicable center-of-mass -> center-of-mass\n",
      "impy.kinematics.EventKinematics::apply_boost(): FS boost not applicable center-of-mass -> center-of-mass\n",
      "impy.kinematics.EventKinematics::apply_boost(): FS boost not applicable center-of-mass -> center-of-mass\n",
      "impy.kinematics.EventKinematics::apply_boost(): FS boost not applicable center-of-mass -> center-of-mass\n",
      "impy.kinematics.EventKinematics::apply_boost(): FS boost not applicable center-of-mass -> center-of-mass\n",
      "impy.kinematics.EventKinematics::apply_boost(): FS boost not applicable center-of-mass -> center-of-mass\n",
      "impy.kinematics.EventKinematics::apply_boost(): FS boost not applicable center-of-mass -> center-of-mass\n",
      "impy.kinematics.EventKinematics::apply_boost(): FS boost not applicable center-of-mass -> center-of-mass\n",
      "impy.kinematics.EventKinematics::apply_boost(): FS boost not applicable center-of-mass -> center-of-mass\n",
      "impy.kinematics.EventKinematics::apply_boost(): FS boost not applicable center-of-mass -> center-of-mass\n",
      "impy.kinematics.EventKinematics::apply_boost(): FS boost not applicable center-of-mass -> center-of-mass\n",
      "impy.kinematics.EventKinematics::apply_boost(): FS boost not applicable center-of-mass -> center-of-mass\n",
      "impy.kinematics.EventKinematics::apply_boost(): FS boost not applicable center-of-mass -> center-of-mass\n",
      "impy.kinematics.EventKinematics::apply_boost(): FS boost not applicable center-of-mass -> center-of-mass\n",
      "impy.kinematics.EventKinematics::apply_boost(): FS boost not applicable center-of-mass -> center-of-mass\n",
      "impy.kinematics.EventKinematics::apply_boost(): FS boost not applicable center-of-mass -> center-of-mass\n",
      "impy.kinematics.EventKinematics::apply_boost(): FS boost not applicable center-of-mass -> center-of-mass\n",
      "impy.kinematics.EventKinematics::apply_boost(): FS boost not applicable center-of-mass -> center-of-mass\n",
      "impy.kinematics.EventKinematics::apply_boost(): FS boost not applicable center-of-mass -> center-of-mass\n",
      "impy.kinematics.EventKinematics::apply_boost(): FS boost not applicable center-of-mass -> center-of-mass\n",
      "impy.kinematics.EventKinematics::apply_boost(): FS boost not applicable center-of-mass -> center-of-mass\n",
      "impy.kinematics.EventKinematics::apply_boost(): FS boost not applicable center-of-mass -> center-of-mass\n",
      "impy.kinematics.EventKinematics::apply_boost(): FS boost not applicable center-of-mass -> center-of-mass\n",
      "impy.kinematics.EventKinematics::apply_boost(): FS boost not applicable center-of-mass -> center-of-mass\n",
      "impy.kinematics.EventKinematics::apply_boost(): FS boost not applicable center-of-mass -> center-of-mass\n",
      "impy.kinematics.EventKinematics::apply_boost(): FS boost not applicable center-of-mass -> center-of-mass\n",
      "impy.kinematics.EventKinematics::apply_boost(): FS boost not applicable center-of-mass -> center-of-mass\n",
      "impy.kinematics.EventKinematics::apply_boost(): FS boost not applicable center-of-mass -> center-of-mass\n",
      "impy.kinematics.EventKinematics::apply_boost(): FS boost not applicable center-of-mass -> center-of-mass\n",
      "impy.kinematics.EventKinematics::apply_boost(): FS boost not applicable center-of-mass -> center-of-mass\n",
      "impy.kinematics.EventKinematics::apply_boost(): FS boost not applicable center-of-mass -> center-of-mass\n",
      "impy.kinematics.EventKinematics::apply_boost(): FS boost not applicable center-of-mass -> center-of-mass\n",
      "impy.kinematics.EventKinematics::apply_boost(): FS boost not applicable center-of-mass -> center-of-mass\n",
      "impy.kinematics.EventKinematics::apply_boost(): FS boost not applicable center-of-mass -> center-of-mass\n",
      "impy.kinematics.EventKinematics::apply_boost(): FS boost not applicable center-of-mass -> center-of-mass\n",
      "impy.kinematics.EventKinematics::apply_boost(): FS boost not applicable center-of-mass -> center-of-mass\n",
      "impy.kinematics.EventKinematics::apply_boost(): FS boost not applicable center-of-mass -> center-of-mass\n",
      "impy.kinematics.EventKinematics::apply_boost(): FS boost not applicable center-of-mass -> center-of-mass\n",
      "impy.kinematics.EventKinematics::apply_boost(): FS boost not applicable center-of-mass -> center-of-mass\n",
      "impy.kinematics.EventKinematics::apply_boost(): FS boost not applicable center-of-mass -> center-of-mass\n",
      "impy.kinematics.EventKinematics::apply_boost(): FS boost not applicable center-of-mass -> center-of-mass\n",
      "impy.kinematics.EventKinematics::apply_boost(): FS boost not applicable center-of-mass -> center-of-mass\n",
      "impy.kinematics.EventKinematics::apply_boost(): FS boost not applicable center-of-mass -> center-of-mass\n",
      "impy.kinematics.EventKinematics::apply_boost(): FS boost not applicable center-of-mass -> center-of-mass\n",
      "impy.kinematics.EventKinematics::apply_boost(): FS boost not applicable center-of-mass -> center-of-mass\n",
      "impy.kinematics.EventKinematics::apply_boost(): FS boost not applicable center-of-mass -> center-of-mass\n",
      "impy.kinematics.EventKinematics::apply_boost(): FS boost not applicable center-of-mass -> center-of-mass\n",
      "impy.kinematics.EventKinematics::apply_boost(): FS boost not applicable center-of-mass -> center-of-mass\n"
     ]
    }
   ],
   "source": [
    "n_bins = 30\n",
    "bins = np.linspace(-1,1.,n_bins+1)\n",
    "grid = 0.5*(bins[1:] + bins[:-1])\n",
    "widths = (bins[1:] - bins[:-1])\n",
    "urq_pions = np.zeros(n_bins)\n",
    "urq_protons = np.zeros(n_bins)\n",
    "eta_bins = np.linspace(-7,7,n_bins+1)\n",
    "eta_grid = 0.5*(eta_bins[1:] + eta_bins[:-1])\n",
    "wdths_eta = (eta_bins[1:] - eta_bins[:-1])\n",
    "urq_charged_eta = np.zeros(n_bins)\n",
    "\n",
    "n_events = 100\n",
    "norm = 1./float(n_events)\n",
    "\n",
    "# This\n",
    "for event in generator.event_generator(event_kinematics, n_events):\n",
    "    event.filter_final_state_charged()\n",
    "    urq_protons += norm*np.histogram(event.xf[event.p_ids == 2212],bins=bins)[0]\n",
    "    urq_pions += norm*np.histogram(event.xf[np.abs(event.p_ids) == 211],bins=bins)[0]\n",
    "    urq_charged_eta += norm*np.histogram(event.eta,bins=eta_bins)[0]"
   ]
  },
  {
   "cell_type": "code",
   "execution_count": 7,
   "metadata": {},
   "outputs": [
    {
     "name": "stdout",
     "output_type": "stream",
     "text": [
      "impy.kinematics.EventKinematics::apply_boost(): Boosting FS laboratory -> center-of-mass\n",
      "impy.kinematics.EventKinematics::apply_boost(): Boosting FS laboratory -> center-of-mass\n",
      "impy.kinematics.EventKinematics::apply_boost(): Boosting FS laboratory -> center-of-mass\n",
      "impy.kinematics.EventKinematics::apply_boost(): Boosting FS laboratory -> center-of-mass\n",
      "impy.kinematics.EventKinematics::apply_boost(): Boosting FS laboratory -> center-of-mass\n",
      "impy.kinematics.EventKinematics::apply_boost(): Boosting FS laboratory -> center-of-mass\n",
      "impy.kinematics.EventKinematics::apply_boost(): Boosting FS laboratory -> center-of-mass\n",
      "impy.kinematics.EventKinematics::apply_boost(): Boosting FS laboratory -> center-of-mass\n",
      "impy.kinematics.EventKinematics::apply_boost(): Boosting FS laboratory -> center-of-mass\n",
      "impy.kinematics.EventKinematics::apply_boost(): Boosting FS laboratory -> center-of-mass\n",
      "impy.kinematics.EventKinematics::apply_boost(): Boosting FS laboratory -> center-of-mass\n",
      "impy.kinematics.EventKinematics::apply_boost(): Boosting FS laboratory -> center-of-mass\n",
      "impy.kinematics.EventKinematics::apply_boost(): Boosting FS laboratory -> center-of-mass\n",
      "impy.kinematics.EventKinematics::apply_boost(): Boosting FS laboratory -> center-of-mass\n",
      "impy.kinematics.EventKinematics::apply_boost(): Boosting FS laboratory -> center-of-mass\n",
      "impy.kinematics.EventKinematics::apply_boost(): Boosting FS laboratory -> center-of-mass\n",
      "impy.kinematics.EventKinematics::apply_boost(): Boosting FS laboratory -> center-of-mass\n",
      "impy.kinematics.EventKinematics::apply_boost(): Boosting FS laboratory -> center-of-mass\n",
      "impy.kinematics.EventKinematics::apply_boost(): Boosting FS laboratory -> center-of-mass\n",
      "impy.kinematics.EventKinematics::apply_boost(): Boosting FS laboratory -> center-of-mass\n",
      "impy.kinematics.EventKinematics::apply_boost(): Boosting FS laboratory -> center-of-mass\n",
      "impy.kinematics.EventKinematics::apply_boost(): Boosting FS laboratory -> center-of-mass\n",
      "impy.kinematics.EventKinematics::apply_boost(): Boosting FS laboratory -> center-of-mass\n",
      "impy.kinematics.EventKinematics::apply_boost(): Boosting FS laboratory -> center-of-mass\n",
      "impy.kinematics.EventKinematics::apply_boost(): Boosting FS laboratory -> center-of-mass\n",
      "impy.kinematics.EventKinematics::apply_boost(): Boosting FS laboratory -> center-of-mass\n",
      "impy.kinematics.EventKinematics::apply_boost(): Boosting FS laboratory -> center-of-mass\n",
      "impy.kinematics.EventKinematics::apply_boost(): Boosting FS laboratory -> center-of-mass\n",
      "impy.kinematics.EventKinematics::apply_boost(): Boosting FS laboratory -> center-of-mass\n",
      "impy.kinematics.EventKinematics::apply_boost(): Boosting FS laboratory -> center-of-mass\n",
      "impy.kinematics.EventKinematics::apply_boost(): Boosting FS laboratory -> center-of-mass\n",
      "impy.kinematics.EventKinematics::apply_boost(): Boosting FS laboratory -> center-of-mass\n",
      "impy.kinematics.EventKinematics::apply_boost(): Boosting FS laboratory -> center-of-mass\n",
      "impy.kinematics.EventKinematics::apply_boost(): Boosting FS laboratory -> center-of-mass\n",
      "impy.kinematics.EventKinematics::apply_boost(): Boosting FS laboratory -> center-of-mass\n",
      "impy.kinematics.EventKinematics::apply_boost(): Boosting FS laboratory -> center-of-mass\n",
      "impy.kinematics.EventKinematics::apply_boost(): Boosting FS laboratory -> center-of-mass\n",
      "impy.kinematics.EventKinematics::apply_boost(): Boosting FS laboratory -> center-of-mass\n",
      "impy.kinematics.EventKinematics::apply_boost(): Boosting FS laboratory -> center-of-mass\n",
      "impy.kinematics.EventKinematics::apply_boost(): Boosting FS laboratory -> center-of-mass\n",
      "impy.kinematics.EventKinematics::apply_boost(): Boosting FS laboratory -> center-of-mass\n",
      "impy.kinematics.EventKinematics::apply_boost(): Boosting FS laboratory -> center-of-mass\n",
      "impy.kinematics.EventKinematics::apply_boost(): Boosting FS laboratory -> center-of-mass\n",
      "impy.kinematics.EventKinematics::apply_boost(): Boosting FS laboratory -> center-of-mass\n",
      "impy.kinematics.EventKinematics::apply_boost(): Boosting FS laboratory -> center-of-mass\n",
      "impy.kinematics.EventKinematics::apply_boost(): Boosting FS laboratory -> center-of-mass\n",
      "impy.kinematics.EventKinematics::apply_boost(): Boosting FS laboratory -> center-of-mass\n",
      "impy.kinematics.EventKinematics::apply_boost(): Boosting FS laboratory -> center-of-mass\n",
      "impy.kinematics.EventKinematics::apply_boost(): Boosting FS laboratory -> center-of-mass\n",
      "impy.kinematics.EventKinematics::apply_boost(): Boosting FS laboratory -> center-of-mass\n",
      "impy.kinematics.EventKinematics::apply_boost(): Boosting FS laboratory -> center-of-mass\n",
      "impy.kinematics.EventKinematics::apply_boost(): Boosting FS laboratory -> center-of-mass\n",
      "impy.kinematics.EventKinematics::apply_boost(): Boosting FS laboratory -> center-of-mass\n",
      "impy.kinematics.EventKinematics::apply_boost(): Boosting FS laboratory -> center-of-mass\n",
      "impy.kinematics.EventKinematics::apply_boost(): Boosting FS laboratory -> center-of-mass\n",
      "impy.kinematics.EventKinematics::apply_boost(): Boosting FS laboratory -> center-of-mass\n",
      "impy.kinematics.EventKinematics::apply_boost(): Boosting FS laboratory -> center-of-mass\n",
      "impy.kinematics.EventKinematics::apply_boost(): Boosting FS laboratory -> center-of-mass\n",
      "impy.kinematics.EventKinematics::apply_boost(): Boosting FS laboratory -> center-of-mass\n",
      "impy.kinematics.EventKinematics::apply_boost(): Boosting FS laboratory -> center-of-mass\n",
      "impy.kinematics.EventKinematics::apply_boost(): Boosting FS laboratory -> center-of-mass\n",
      "impy.kinematics.EventKinematics::apply_boost(): Boosting FS laboratory -> center-of-mass\n",
      "impy.kinematics.EventKinematics::apply_boost(): Boosting FS laboratory -> center-of-mass\n",
      "impy.kinematics.EventKinematics::apply_boost(): Boosting FS laboratory -> center-of-mass\n",
      "impy.kinematics.EventKinematics::apply_boost(): Boosting FS laboratory -> center-of-mass\n",
      "impy.kinematics.EventKinematics::apply_boost(): Boosting FS laboratory -> center-of-mass\n",
      "impy.kinematics.EventKinematics::apply_boost(): Boosting FS laboratory -> center-of-mass\n",
      "impy.kinematics.EventKinematics::apply_boost(): Boosting FS laboratory -> center-of-mass\n",
      "impy.kinematics.EventKinematics::apply_boost(): Boosting FS laboratory -> center-of-mass\n",
      "impy.kinematics.EventKinematics::apply_boost(): Boosting FS laboratory -> center-of-mass\n",
      "impy.kinematics.EventKinematics::apply_boost(): Boosting FS laboratory -> center-of-mass\n",
      "impy.kinematics.EventKinematics::apply_boost(): Boosting FS laboratory -> center-of-mass\n",
      "impy.kinematics.EventKinematics::apply_boost(): Boosting FS laboratory -> center-of-mass\n",
      "impy.kinematics.EventKinematics::apply_boost(): Boosting FS laboratory -> center-of-mass\n",
      "impy.kinematics.EventKinematics::apply_boost(): Boosting FS laboratory -> center-of-mass\n",
      "impy.kinematics.EventKinematics::apply_boost(): Boosting FS laboratory -> center-of-mass\n",
      "impy.kinematics.EventKinematics::apply_boost(): Boosting FS laboratory -> center-of-mass\n",
      "impy.kinematics.EventKinematics::apply_boost(): Boosting FS laboratory -> center-of-mass\n",
      "impy.kinematics.EventKinematics::apply_boost(): Boosting FS laboratory -> center-of-mass\n",
      "impy.kinematics.EventKinematics::apply_boost(): Boosting FS laboratory -> center-of-mass\n",
      "impy.kinematics.EventKinematics::apply_boost(): Boosting FS laboratory -> center-of-mass\n",
      "impy.kinematics.EventKinematics::apply_boost(): Boosting FS laboratory -> center-of-mass\n",
      "impy.kinematics.EventKinematics::apply_boost(): Boosting FS laboratory -> center-of-mass\n",
      "impy.kinematics.EventKinematics::apply_boost(): Boosting FS laboratory -> center-of-mass\n",
      "impy.kinematics.EventKinematics::apply_boost(): Boosting FS laboratory -> center-of-mass\n",
      "impy.kinematics.EventKinematics::apply_boost(): Boosting FS laboratory -> center-of-mass\n",
      "impy.kinematics.EventKinematics::apply_boost(): Boosting FS laboratory -> center-of-mass\n",
      "impy.kinematics.EventKinematics::apply_boost(): Boosting FS laboratory -> center-of-mass\n",
      "impy.kinematics.EventKinematics::apply_boost(): Boosting FS laboratory -> center-of-mass\n",
      "impy.kinematics.EventKinematics::apply_boost(): Boosting FS laboratory -> center-of-mass\n",
      "impy.kinematics.EventKinematics::apply_boost(): Boosting FS laboratory -> center-of-mass\n",
      "impy.kinematics.EventKinematics::apply_boost(): Boosting FS laboratory -> center-of-mass\n",
      "impy.kinematics.EventKinematics::apply_boost(): Boosting FS laboratory -> center-of-mass\n",
      "impy.kinematics.EventKinematics::apply_boost(): Boosting FS laboratory -> center-of-mass\n",
      "impy.kinematics.EventKinematics::apply_boost(): Boosting FS laboratory -> center-of-mass\n",
      "impy.kinematics.EventKinematics::apply_boost(): Boosting FS laboratory -> center-of-mass\n",
      "impy.kinematics.EventKinematics::apply_boost(): Boosting FS laboratory -> center-of-mass\n",
      "impy.kinematics.EventKinematics::apply_boost(): Boosting FS laboratory -> center-of-mass\n",
      "impy.kinematics.EventKinematics::apply_boost(): Boosting FS laboratory -> center-of-mass\n",
      "impy.kinematics.EventKinematics::apply_boost(): Boosting FS laboratory -> center-of-mass\n"
     ]
    }
   ],
   "source": [
    "sib_pions = np.zeros(n_bins)\n",
    "sib_protons = np.zeros(n_bins)\n",
    "sib_charged_eta = np.zeros(n_bins)\n",
    "# This\n",
    "for event in sibyll.event_generator(event_kinematics, n_events):\n",
    "    event.filter_final_state_charged()\n",
    "    sib_protons += norm*np.histogram(event.xf[event.p_ids == 2212],bins=bins)[0]\n",
    "    sib_pions += norm*np.histogram(event.xf[np.abs(event.p_ids) == 211],bins=bins)[0]\n",
    "    sib_charged_eta += norm*np.histogram(event.eta,bins=eta_bins)[0]"
   ]
  },
  {
   "cell_type": "code",
   "execution_count": 8,
   "metadata": {},
   "outputs": [
    {
     "data": {
      "text/plain": [
       "[]"
      ]
     },
     "execution_count": 8,
     "metadata": {},
     "output_type": "execute_result"
    },
    {
     "data": {
      "image/png": "[encoded data removed]",
      "text/plain": [
       "<Figure size 432x288 with 1 Axes>"
      ]
     },
     "metadata": {
      "needs_background": "light"
     },
     "output_type": "display_data"
    }
   ],
   "source": [
    "l=plt.plot(grid, urq_protons/widths)[0]\n",
    "plt.plot(grid, sib_protons/widths,c=l.get_color(), ls='--',label='SIBYLL2.3c')\n",
    "l=plt.plot(grid, urq_pions/widths)[0]\n",
    "plt.plot(grid, sib_pions/widths,c=l.get_color(), ls='--',label='SIBYLL2.3c')\n",
    "plt.ylim(1e-2,)\n",
    "plt.semilogy()"
   ]
  },
  {
   "cell_type": "code",
   "execution_count": 14,
   "metadata": {},
   "outputs": [
    {
     "data": {
      "image/png": "[encoded data removed]",
      "text/plain": [
       "<Figure size 432x288 with 1 Axes>"
      ]
     },
     "metadata": {
      "needs_background": "light"
     },
     "output_type": "display_data"
    }
   ],
   "source": [
    "l=plt.plot(eta_grid, urq_charged_eta/wdths_eta)[0]\n",
    "plt.plot(eta_grid, sib_charged_eta/wdths_eta,c=l.get_color(), ls='--',label='SIBYLL2.3c')\n",
    "plt.ylim(0,7)\n",
    "plt.grid()\n",
    "# plt.semilogy()"
   ]
  },
  {
   "cell_type": "code",
   "execution_count": 16,
   "metadata": {},
   "outputs": [],
   "source": [
    "event_kinematics = EventKinematics(\n",
    "    plab=1000. * GeV,\n",
    "    p1pdg=2212,\n",
    "    p2pdg=2212\n",
    "#     nuc1_prop=(4,2),\n",
    "#     nuc2_prop=(12,6)\n",
    ")"
   ]
  },
  {
   "cell_type": "code",
   "execution_count": 17,
   "metadata": {},
   "outputs": [],
   "source": [
    "# event_kinematics = EventKinematics(\n",
    "#     plab=1000. * GeV,\n",
    "# #     p1pdg=2212,\n",
    "# #     p2pdg=2212\n",
    "#     nuc1_prop=(4,2),\n",
    "#     nuc2_prop=(12,6)\n",
    "# )\n",
    "n_bins = 30\n",
    "# bins = np.linspace(-1,1.,n_bins+1)\n",
    "bins = np.logspace(-1,1,n_bins+1)\n",
    "grid = 0.5*(bins[1:] + bins[:-1])\n",
    "widths = (bins[1:] - bins[:-1])\n",
    "urq_pions = np.zeros(n_bins)\n",
    "urq_protons = np.zeros(n_bins)\n",
    "\n",
    "n_events = 1000\n",
    "norm = 1./float(n_events)\n",
    "\n",
    "for event in generator.event_generator(event_kinematics, n_events):\n",
    "#     event.filter_final_state_charged()\n",
    "    event.filter_final_state_charged()\n",
    "    urq_protons += norm*np.histogram(event.en[event.p_ids == 2212],bins=bins)[0]\n",
    "    urq_pions += norm*np.histogram(event.en[np.abs(event.p_ids) == 211],bins=bins)[0]\n"
   ]
  },
  {
   "cell_type": "code",
   "execution_count": 18,
   "metadata": {},
   "outputs": [
    {
     "data": {
      "text/plain": [
       "[<matplotlib.lines.Line2D at 0x116531610>]"
      ]
     },
     "execution_count": 18,
     "metadata": {},
     "output_type": "execute_result"
    },
    {
     "data": {
      "image/png": "[encoded data removed]",
      "text/plain": [
       "<Figure size 432x288 with 1 Axes>"
      ]
     },
     "metadata": {
      "needs_background": "light"
     },
     "output_type": "display_data"
    }
   ],
   "source": [
    "plt.semilogx(grid, urq_pions)\n",
    "# plt.plot(grid, urq_protons)"
   ]
  },
  {
   "cell_type": "code",
   "execution_count": 14,
   "metadata": {},
   "outputs": [
    {
     "data": {
      "text/plain": [
       "255.21663856765957"
      ]
     },
     "execution_count": 14,
     "metadata": {},
     "output_type": "execute_result"
    }
   ],
   "source": [
    "generator.lib.info.sigmaGen()"
   ]
  },
  {
   "cell_type": "code",
   "execution_count": null,
   "metadata": {},
   "outputs": [],
   "source": [
    "a.sigmaTot()"
   ]
  },
  {
   "cell_type": "code",
   "execution_count": 21,
   "metadata": {},
   "outputs": [
    {
     "data": {
      "text/plain": [
       "'/Users/afedyni/OneDrive/devel/git/impy'"
      ]
     },
     "execution_count": 21,
     "metadata": {},
     "output_type": "execute_result"
    }
   ],
   "source": [
    "os.path.dirname(os.path.abspath(sibyll.lib.__file__))"
   ]
  },
  {
   "cell_type": "code",
   "execution_count": null,
   "metadata": {},
   "outputs": [],
   "source": []
  }
 ],
 "metadata": {
  "kernelspec": {
   "display_name": "Python 2",
   "language": "python",
   "name": "python2"
  },
  "language_info": {
   "codemirror_mode": {
    "name": "ipython",
    "version": 2
   },
   "file_extension": ".py",
   "mimetype": "text/x-python",
   "name": "python",
   "nbconvert_exporter": "python",
   "pygments_lexer": "ipython2",
   "version": "2.7.15"
  }
 },
 "nbformat": 4,
 "nbformat_minor": 2
}
