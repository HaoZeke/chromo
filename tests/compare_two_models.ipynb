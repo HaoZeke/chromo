{
 "cells": [
  {
   "cell_type": "code",
   "execution_count": 1,
   "metadata": {},
   "outputs": [],
   "source": [
    "import matplotlib.pyplot as plt\n",
    "import sys\n",
    "import os\n",
    "import numpy as np\n",
    "%load_ext autoreload\n",
    "%autoreload 2"
   ]
  },
  {
   "cell_type": "code",
   "execution_count": 2,
   "metadata": {},
   "outputs": [],
   "source": [
    "root_dir = os.path.abspath('../')\n",
    "sys.path.append(root_dir)\n",
    "sys.path.append(os.path.join(root_dir,'../DPMJET-III-gitlab'))\n",
    "# print root_dir\n",
    "\n",
    "pythia_dir = os.path.join(\n",
    "    os.path.expanduser('~'), 'devel', 'apps', 'pythia8240')\n",
    "sys.path.append(os.path.join(pythia_dir, 'lib'))\n",
    "\n",
    "from impy.definitions import *\n",
    "from impy.constants import *\n",
    "from impy.kinematics import EventKinematics\n",
    "from impy.common import impy_config, pdata"
   ]
  },
  {
   "cell_type": "code",
   "execution_count": 3,
   "metadata": {},
   "outputs": [],
   "source": [
    "# AF: This is what the user interaction has to yield.\n",
    "# It is the typical expected configuration that one\n",
    "# wants to run (read pp-mode at energies not exceeding\n",
    "# 7 TeV). If you want cosmic ray energies, this should\n",
    "# be rather p-N at 10 EeV and lab frame (not yet defined).\n",
    "\n",
    "event_kinematics = EventKinematics(\n",
    "#     ecm= 7000 * GeV,\n",
    "    p1pdg=2212,\n",
    "#     p2pdg=2212\n",
    "#     nuc2_prop=(12,6)\n",
    "    ecm=2760*GeV,\n",
    "#     nuc1_prop=(208,82),\n",
    "    nuc2_prop=(208,82)\n",
    ")"
   ]
  },
  {
   "cell_type": "code",
   "execution_count": 4,
   "metadata": {},
   "outputs": [],
   "source": [
    "impy_config[\"user_frame\"] = 'center-of-mass'\n",
    "impy_config['tau_stable'] = 10e-12\n",
    "impy_config['pi0_stable'] = True"
   ]
  },
  {
   "cell_type": "code",
   "execution_count": null,
   "metadata": {},
   "outputs": [],
   "source": []
  },
  {
   "cell_type": "code",
   "execution_count": 5,
   "metadata": {},
   "outputs": [],
   "source": [
    "# Define the two models\n",
    "# m1 = 'DPMJETIII306'\n",
    "m1 = 'DPMJETIII171'\n",
    "# m1 = 'QGSJETII04'\n",
    "m2 = 'DPMJETIII171'"
   ]
  },
  {
   "cell_type": "code",
   "execution_count": 6,
   "metadata": {},
   "outputs": [
    {
     "name": "stdout",
     "output_type": "stream",
     "text": [
      "impy.models.dpmjetIII.DpmjetIIIRun::init_generator(): Initializing DPMJET-III\n"
     ]
    }
   ],
   "source": [
    "gen_m1 = make_generator_instance(interaction_model_by_tag[m1])\n",
    "gen_m1.init_generator(event_kinematics)\n",
    "# import IPython\n",
    "# IPython.embed()\n",
    "# gen_m2 = make_generator_instance(interaction_model_by_tag[m2])\n",
    "# gen_m2.init_generator(event_kinematics)\n"
   ]
  },
  {
   "cell_type": "code",
   "execution_count": null,
   "metadata": {},
   "outputs": [],
   "source": [
    "n_bins = 30\n",
    "bins = np.linspace(-1,1.,n_bins+1)\n",
    "grid = 0.5*(bins[1:] + bins[:-1])\n",
    "widths = (bins[1:] - bins[:-1])\n",
    "\n",
    "m1_pions = np.zeros(n_bins)\n",
    "m1_protons = np.zeros(n_bins)\n",
    "m1_negpions = np.zeros(n_bins)\n",
    "\n",
    "eta_bins = np.linspace(-7,7,n_bins+1)\n",
    "eta_grid = 0.5*(eta_bins[1:] + eta_bins[:-1])\n",
    "widths_eta = (eta_bins[1:] - eta_bins[:-1])\n",
    "\n",
    "m1_charged_eta = np.zeros(n_bins)\n",
    "\n",
    "n_events = 20\n",
    "norm = 1./float(n_events)\n",
    "\n",
    "# This\n",
    "for event in gen_m1.event_generator(event_kinematics, n_events):\n",
    "    event.filter_final_state_charged()\n",
    "    m1_protons += norm/widths*np.histogram(event.xf[event.p_ids == 2212],bins=bins)[0]\n",
    "#     m1_pions += norm/widths*np.histogram(event.xf[np.abs(event.p_ids) == 211],bins=bins)[0]\n",
    "#     m1_charged_eta += norm/widths_eta*np.histogram(event.eta,bins=eta_bins)[0]\n",
    "#     m1_negpions += norm/widths*np.histogram(np.sqrt(pdata.mass(-211)**2 + event.pt2[(event.p_ids) == -211]),bins=bins)[0]"
   ]
  },
  {
   "cell_type": "code",
   "execution_count": 11,
   "metadata": {},
   "outputs": [
    {
     "name": "stdout",
     "output_type": "stream",
     "text": [
      "2.0759091806515753 14 1622\n",
      "2.3685892399937445 12 1372\n",
      "2.8879814929459924 9 1246\n",
      "2.614022113161991 14 1372\n",
      "2.1649195828042607 15 1264\n",
      "0.19315482077061563 8 1127\n",
      "2.6638745348843758 9 1158\n",
      "1.5047096045816306 18 1361\n",
      "2.8795802322140793 17 1503\n",
      "1.6454890604128931 6 855\n",
      "1.1182957988779898 11 1086\n",
      "1.7175359060810118 11 1208\n",
      "1.8610008972373218 15 1598\n",
      "1.3295749444246359 16 1497\n",
      "0.630766278495779 15 1099\n",
      "1.0981628793444143 18 1629\n",
      "1.916341155732623 9 976\n",
      "1.8881595728779355 14 1145\n",
      "1.4954743627009464 18 1555\n",
      "2.9943276133474845 10 1368\n",
      "2.947983382748201 8 846\n",
      "1.148067014549903 18 1490\n",
      "2.077605909803479 13 1433\n",
      "1.4480049044954815 11 1090\n",
      "2.094566433309874 15 1462\n",
      "2.1956194410090735 12 980\n",
      "1.2507013601295807 12 1249\n",
      "1.7862770684130438 25 1722\n",
      "2.8902210111951447 10 1175\n",
      "0.18502483315592883 15 1799\n",
      "2.653939316011097 8 1163\n",
      "1.4778045884926254 15 1375\n",
      "2.646695260603674 19 1638\n",
      "1.9154039075861315 16 1451\n",
      "1.7121631658334047 15 1745\n",
      "1.5198754915679564 15 1460\n",
      "1.8343463206505641 15 1268\n",
      "1.4241622946010413 16 1369\n",
      "1.6988773468338463 17 1385\n",
      "2.16214729498936 17 1559\n",
      "2.5689876142922823 16 1482\n",
      "2.156314994899865 15 1587\n",
      "1.50726015899948 14 1165\n",
      "2.543549730450583 13 1346\n",
      "2.870450180788974 14 1531\n",
      "1.8940268755649061 16 1352\n",
      "1.1677040602959645 10 1338\n",
      "1.9622598744679174 8 1050\n",
      "1.5593756525427884 12 1267\n",
      "2.685825546051297 8 957\n",
      "2.30788448638791 16 1258\n",
      "1.7090663589374313 12 1208\n",
      "2.079549032979972 10 975\n",
      "2.0050318153990023 16 1676\n",
      "1.5500102444033106 8 762\n",
      "2.423290628084347 12 1187\n",
      "1.9909593630600386 16 1568\n",
      "1.031953967586404 17 1551\n",
      "0.47252784896029076 11 1168\n",
      "2.7574437708502155 10 1328\n",
      "0.6954958288441395 9 768\n",
      "2.7404175444711494 15 1321\n",
      "1.7226473182248718 15 1337\n",
      "2.1082601463152 12 1243\n",
      "1.3946017717493258 15 1701\n",
      "1.5999498020848393 9 1072\n",
      "2.757665748095577 17 1363\n",
      "2.1835240896915478 12 1444\n",
      "0.7703439261494318 12 1256\n",
      "2.672073159376978 9 816\n",
      "1.2118386994432913 9 937\n",
      "2.980814157054531 13 1433\n",
      "0.5969909565722982 16 1646\n",
      "2.6409706445849945 15 1380\n",
      "2.9813412588032087 16 1157\n",
      "0.9110167830447538 20 1456\n",
      "0.6306942536461759 15 1719\n",
      "1.29654445156888 24 1537\n",
      "1.5399916819200357 9 1132\n",
      "2.872006430532913 13 1195\n",
      "0.7724185940364332 12 1470\n",
      "1.9442434821014343 18 1873\n",
      "2.554060635557142 10 1055\n",
      "2.080271285080995 20 1565\n",
      "2.9995219454627584 13 1325\n",
      "2.5650350765004144 7 730\n",
      "2.1445881910660294 10 1373\n",
      "2.818374805455178 20 1373\n",
      "1.104379289876002 14 1312\n",
      "1.7949497103905763 12 1459\n",
      "1.6726188399008464 12 1308\n",
      "2.2583200065561058 12 1040\n",
      "1.3696660764255464 16 1116\n",
      "0.8915624116287018 15 1529\n",
      "2.380652732278162 19 1405\n",
      "2.1373233041550432 12 1155\n",
      "1.1070282746307667 14 1272\n",
      "1.1685938825535869 14 1297\n",
      "0.549793210759997 10 1048\n",
      "2.2777256446834135 14 1333\n",
      "1.556296529279043 15 1460\n",
      "0.45621420968135246 9 1169\n",
      "1.2412769876404754 12 1464\n",
      "1.5552814266392874 13 1317\n",
      "1.92163382689904 11 1332\n",
      "1.9875652075816312 20 1440\n",
      "2.791440036469447 15 1315\n",
      "1.7773559708280895 10 1591\n",
      "0.1985536679950838 10 1046\n",
      "1.998166066603373 10 1232\n",
      "2.275125992495613 10 887\n",
      "1.36142191195052 7 598\n",
      "2.509346514525403 9 1079\n",
      "1.8992202626715007 17 1615\n",
      "2.995468602095709 14 1200\n",
      "1.3167446850362008 17 1643\n",
      "2.9041527153300057 21 1844\n",
      "0.8176524940902947 15 1361\n",
      "2.2728382035130092 9 934\n",
      "0.24079138981511997 13 1447\n",
      "2.925688215789548 18 1453\n",
      "0.36743851758700163 11 1114\n",
      "1.5503167168452054 12 1510\n",
      "0.9395864521488233 8 842\n",
      "1.0663029672289857 18 1568\n",
      "2.743438632073764 17 1142\n",
      "2.866660979187982 8 715\n",
      "0.8658106415959959 16 1217\n",
      "1.613729169537222 13 1123\n",
      "2.7744450657961606 13 1559\n",
      "1.2590736802801756 15 1376\n",
      "2.029607071173831 14 1210\n",
      "1.1876199320911967 17 1424\n",
      "2.761182314261127 8 773\n",
      "1.087480443242953 18 1406\n",
      "2.594854987721011 9 943\n",
      "2.252741874890055 15 1439\n",
      "2.599677389804099 16 1388\n",
      "1.7570172898213692 17 1544\n",
      "2.471546900398159 14 1325\n",
      "2.8221313930896788 14 1343\n",
      "2.8531718185009636 9 863\n",
      "2.5012806810490797 15 1040\n",
      "1.161990105193607 16 1235\n",
      "0.17360454762929736 18 1715\n",
      "2.424781048076159 11 956\n",
      "1.8482531348100422 13 1275\n",
      "2.9340163644879396 16 1160\n",
      "2.1106751040068907 20 2015\n",
      "2.6649576277794815 14 1359\n",
      "2.042363999923758 15 1363\n",
      "1.4580346239256294 16 1751\n",
      "2.4747430246954423 14 1274\n",
      "0.7827402166206354 11 1248\n",
      "1.0946287794808194 16 1340\n",
      "0.5768436809936208 18 1364\n",
      "2.95949179367391 13 1147\n",
      "2.6177060105537007 12 1190\n",
      "0.8269747981667173 14 1143\n",
      "2.8071430615253803 10 872\n",
      "2.47738212968649 14 1175\n",
      "1.419061743232554 17 1669\n",
      "0.21802969683386345 7 864\n",
      "2.7141607844119457 21 1575\n",
      "2.816885988023689 13 1199\n",
      "0.9729635250007616 13 1480\n",
      "1.76253087311228 13 1153\n",
      "1.3813639670741404 15 1410\n",
      "2.3194414845786095 17 1399\n",
      "2.570148481260902 18 1280\n",
      "1.8130414107543114 17 1605\n",
      "2.273464500425758 14 1606\n",
      "2.4687797292636433 11 1235\n",
      "[2.90911598e-03 1.66580020e-03 1.98485601e-03 1.74346248e-03\n",
      " 1.18065278e-03 1.24784480e-03 1.36603459e-03 1.05915779e-03\n",
      " 9.35076220e-04 1.00094454e-03 9.37039260e-04 9.08131673e-04\n",
      " 6.46129933e-04 4.93747491e-04 2.65607640e-04 1.33790522e-04\n",
      " 7.05559845e-05 3.50045146e-05 1.52793749e-05 5.74824689e-06\n",
      " 0.00000000e+00 0.00000000e+00 0.00000000e+00 0.00000000e+00\n",
      " 0.00000000e+00 0.00000000e+00 0.00000000e+00 0.00000000e+00\n",
      " 0.00000000e+00 0.00000000e+00] [0. 0. 0. 0. 0. 0. 0. 0. 0. 0. 0. 0. 0. 0. 0. 0. 0. 0. 0. 0. 0. 0. 0. 0.\n",
      " 0. 0. 0. 0. 0. 0.] [2.59963996e-05 1.76824504e-05 2.17752075e-05 1.77254566e-05\n",
      " 1.22839442e-05 1.33225596e-05 1.41348036e-05 1.07223941e-05\n",
      " 9.33266302e-06 9.70878206e-06 8.60247652e-06 7.88941824e-06\n",
      " 5.21977065e-06 3.77035692e-06 1.79834232e-06 8.25693250e-07\n",
      " 4.00678887e-07 1.97907029e-07 1.02741939e-07 3.64515807e-08\n",
      " 0.00000000e+00 0.00000000e+00 0.00000000e+00 0.00000000e+00\n",
      " 0.00000000e+00 0.00000000e+00 0.00000000e+00 0.00000000e+00\n",
      " 0.00000000e+00 0.00000000e+00]\n"
     ]
    }
   ],
   "source": [
    "n_bins = 30\n",
    "\n",
    "imparam_bins = np.linspace(0,15,n_bins+1)\n",
    "imparam_grid = 0.5*(imparam_bins[1:] + imparam_bins[:-1])\n",
    "widths_imparam = (imparam_bins[1:] - imparam_bins[:-1])\n",
    "\n",
    "m1_imparam = np.zeros(n_bins)\n",
    "\n",
    "nucmult_bins = np.linspace(0,80000,n_bins+1)\n",
    "nucmult_grid = 0.5*(nucmult_bins[1:] + nucmult_bins[:-1])\n",
    "widths_imparam = (nucmult_bins[1:] - nucmult_bins[:-1])\n",
    "\n",
    "m1_nucmult = np.zeros(n_bins)\n",
    "\n",
    "npart_bins = np.linspace(0, 20, n_bins+1)\n",
    "npart_grid = 0.5*(npart_bins[1:] + npart_bins[:-1])\n",
    "widths_npart = (npart_bins[1:] - npart_bins[:-1])\n",
    "\n",
    "m1_npart = np.zeros(n_bins)\n",
    "m1_npart_b = np.zeros(n_bins)\n",
    "\n",
    "n_events = 1000\n",
    "norm = 1./float(n_events)\n",
    "\n",
    "# This\n",
    "imparam_arr = []\n",
    "mult_arr = []\n",
    "for event in gen_m1.event_generator(event_kinematics, n_events):\n",
    "#     event.filter_final_state_charged()\n",
    "#     imparams = np.ones(np.count_nonzero(event.p_ids != 0))*float(event.impact_parameter)\n",
    "#     mults = np.ones(np.count_nonzero(event.p_ids != 0))\n",
    "    norm = 1./(2.*np.pi*float(event.impact_parameter))/float(n_events)\n",
    "    if float(event.impact_parameter) < 3.:\n",
    "        print event.impact_parameter, event.n_wounded, np.count_nonzero(event.p_ids != 0)\n",
    "#     print imparams, len(imparams)\n",
    "#     imparam_arr.append(imparams)\n",
    "#     m1_imparam += norm/widths_imparam*np.histogram(imparams, bins=imparam_bins)[0]\n",
    "#     print len(m1_imparam)\n",
    "#     imparam_arr.append(float(event.impact_parameter))\n",
    "#     mult_arr.append(np.count_nonzero(event.p_ids != 0))\n",
    "#     print event.impact_parameter, np.count_nonzero(event.p_ids != 0)\n",
    "#     m1_imparam += norm/widths*len(event.p_ids)\n",
    "    \n",
    "    m1_imparam += norm/widths_imparam*np.histogram(np.ones(np.count_nonzero(event.p_ids != 0))*float(event.impact_parameter), bins=imparam_bins)[0]\n",
    "#     m1_npart += norm/widths_npart*np.histogram(np.ones(np.count_nonzero(event.p_ids != 0))*float(event.n_wounded), bins=npart_bins)[0]\n",
    "    m1_npart_b += norm/widths_imparam*np.histogram(float(event.impact_parameter), bins=imparam_bins, weights=event.n_wounded)[0]\n",
    "# print imparam_arr, mult_arr\n",
    "# imparam_arr = np.concatenate([arr for arr in imparam_arr], axis=None)\n",
    "# print imparam_arr, mult_arr\n",
    "# norm = 1.\n",
    "# m1_imparam = norm/widths_imparam*np.histogram(imparam_arr, bins=imparam_bins)[0]\n",
    "print m1_imparam, m1_npart, m1_npart_b"
   ]
  },
  {
   "cell_type": "code",
   "execution_count": null,
   "metadata": {},
   "outputs": [],
   "source": []
  },
  {
   "cell_type": "code",
   "execution_count": null,
   "metadata": {},
   "outputs": [],
   "source": [
    "m2_pions = np.zeros(n_bins)\n",
    "m2_protons = np.zeros(n_bins)\n",
    "m2_charged_eta = np.zeros(n_bins)\n",
    "m2_imparam = np.zeros(n_bins)\n",
    "\n",
    "for event in gen_m2.event_generator(event_kinematics, n_events):\n",
    "#     event.filter_final_state_charged()\n",
    "    m2_imparam += norm/widths*np.histogram(event.impact_parameter, bins=imparam_bins, weights=len(event.p_ids))[0]\n",
    "#     m2_protons += norm/widths*np.histogram(event.xf[event.p_ids == 2212],bins=bins)[0]\n",
    "#     m2_pions += norm/widths*np.histogram(event.xf[np.abs(event.p_ids) == 211],bins=bins)[0]\n",
    "#     m2_charged_eta += norm/widths_eta*np.histogram(event.eta,bins=eta_bins)[0]"
   ]
  },
  {
   "cell_type": "code",
   "execution_count": null,
   "metadata": {},
   "outputs": [],
   "source": []
  },
  {
   "cell_type": "code",
   "execution_count": 12,
   "metadata": {},
   "outputs": [
    {
     "data": {
      "text/plain": [
       "<matplotlib.legend.Legend at 0x7f118f9312d0>"
      ]
     },
     "execution_count": 12,
     "metadata": {},
     "output_type": "execute_result"
    },
    {
     "data": {
      "image/png": "[encoded data removed]",
      "text/plain": [
       "<Figure size 432x288 with 1 Axes>"
      ]
     },
     "metadata": {
      "needs_background": "light"
     },
     "output_type": "display_data"
    }
   ],
   "source": [
    "l=plt.plot(imparam_grid, m1_imparam, label=m1)[0]\n",
    "# plt.plot(imparam_grid, m2_imparam, c=l.get_color(), ls='--', label=m2)\n",
    "plt.legend()"
   ]
  },
  {
   "cell_type": "code",
   "execution_count": null,
   "metadata": {},
   "outputs": [],
   "source": [
    "l=plt.plot(npart_grid, m1_npart, label=m1)[0]\n",
    "# plt.plot(imparam_grid, m2_imparam, c=l.get_color(), ls='--', label=m2)\n",
    "plt.legend()"
   ]
  },
  {
   "cell_type": "code",
   "execution_count": 13,
   "metadata": {},
   "outputs": [
    {
     "data": {
      "text/plain": [
       "<matplotlib.legend.Legend at 0x7f118fa4c450>"
      ]
     },
     "execution_count": 13,
     "metadata": {},
     "output_type": "execute_result"
    },
    {
     "data": {
      "image/png": "[encoded data removed]",
      "text/plain": [
       "<Figure size 432x288 with 1 Axes>"
      ]
     },
     "metadata": {
      "needs_background": "light"
     },
     "output_type": "display_data"
    }
   ],
   "source": [
    "l=plt.plot(imparam_grid, m1_npart_b, label=m1)[0]\n",
    "# plt.plot(imparam_grid, m2_imparam, c=l.get_color(), ls='--', label=m2)\n",
    "plt.legend()"
   ]
  },
  {
   "cell_type": "code",
   "execution_count": null,
   "metadata": {},
   "outputs": [],
   "source": [
    "l=plt.plot(grid, m1_protons,label=m1)[0]\n",
    "plt.plot(grid, m2_protons,c=l.get_color(), ls='--',label=m2)\n",
    "l=plt.plot(grid, m1_pions,label=m1)[0]\n",
    "plt.plot(grid, m2_pions,c=l.get_color(), ls='--',label=m2)\n",
    "plt.ylim(1e-2,)\n",
    "plt.semilogy()\n",
    "plt.legend()"
   ]
  },
  {
   "cell_type": "code",
   "execution_count": null,
   "metadata": {},
   "outputs": [],
   "source": [
    "l=plt.plot(eta_grid, m1_charged_eta, label=m1)[0]\n",
    "plt.plot(eta_grid, m2_charged_eta,c=l.get_color(), ls='--', label=m2)\n",
    "plt.ylim(0,7)\n",
    "plt.grid()\n",
    "plt.legend()"
   ]
  },
  {
   "cell_type": "code",
   "execution_count": null,
   "metadata": {},
   "outputs": [],
   "source": [
    "for event in gen_m1.event_generator(event_kinematics, 3):\n",
    "    event.filter_final_state_charged()\n",
    "    for pid, x, y, z, e in zip(event.p_ids, event.px, event.py, event.pz, event.en):\n",
    "        print '{0:8}: {1:10.2e} {2:10.2e} {3:10.2e} {4:10.2e}'.format(pid, x, y, z, e) "
   ]
  },
  {
   "cell_type": "code",
   "execution_count": null,
   "metadata": {},
   "outputs": [],
   "source": [
    "gen_m2.lib.pomdls.iswmdl[5]"
   ]
  },
  {
   "cell_type": "code",
   "execution_count": null,
   "metadata": {},
   "outputs": [],
   "source": []
  }
 ],
 "metadata": {
  "kernelspec": {
   "display_name": "Python 2",
   "language": "python",
   "name": "python2"
  },
  "language_info": {
   "codemirror_mode": {
    "name": "ipython",
    "version": 2
   },
   "file_extension": ".py",
   "mimetype": "text/x-python",
   "name": "python",
   "nbconvert_exporter": "python",
   "pygments_lexer": "ipython2",
   "version": "2.7.16"
  }
 },
 "nbformat": 4,
 "nbformat_minor": 2
}
