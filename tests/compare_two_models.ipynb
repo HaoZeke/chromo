{
 "cells": [
  {
   "cell_type": "code",
   "execution_count": 1,
   "metadata": {},
   "outputs": [],
   "source": [
    "import matplotlib.pyplot as plt\n",
    "import sys\n",
    "import os\n",
    "import numpy as np\n",
    "%load_ext autoreload\n",
    "%autoreload 2"
   ]
  },
  {
   "cell_type": "code",
   "execution_count": 2,
   "metadata": {},
   "outputs": [],
   "source": [
    "root_dir = os.path.abspath('../')\n",
    "sys.path.append(root_dir)\n",
    "sys.path.append(os.path.join(root_dir,'../DPMJET-III-gitlab'))\n",
    "# print root_dir\n",
    "\n",
    "pythia_dir = os.path.join(\n",
    "    os.path.expanduser('~'), 'devel', 'apps', 'pythia8240')\n",
    "sys.path.append(os.path.join(pythia_dir, 'lib'))\n",
    "\n",
    "from impy.definitions import *\n",
    "from impy.constants import *\n",
    "from impy.kinematics import EventKinematics\n",
    "from impy.common import impy_config, pdata"
   ]
  },
  {
   "cell_type": "code",
   "execution_count": 3,
   "metadata": {},
   "outputs": [],
   "source": [
    "# AF: This is what the user interaction has to yield.\n",
    "# It is the typical expected configuration that one\n",
    "# wants to run (read pp-mode at energies not exceeding\n",
    "# 7 TeV). If you want cosmic ray energies, this should\n",
    "# be rather p-N at 10 EeV and lab frame (not yet defined).\n",
    "\n",
    "event_kinematics = EventKinematics(\n",
    "#     ecm= 7000 * GeV,\n",
    "#     p1pdg=2212,\n",
    "#     p2pdg=2212\n",
    "#     nuc2_prop=(12,6)\n",
    "    ecm=2760*GeV,\n",
    "    nuc1_prop=(208,82),\n",
    "    nuc2_prop=(208,82)\n",
    ")"
   ]
  },
  {
   "cell_type": "code",
   "execution_count": 4,
   "metadata": {},
   "outputs": [],
   "source": [
    "impy_config[\"user_frame\"] = 'center-of-mass'\n",
    "impy_config['tau_stable'] = 10e-12\n",
    "impy_config['pi0_stable'] = True"
   ]
  },
  {
   "cell_type": "code",
   "execution_count": null,
   "metadata": {},
   "outputs": [],
   "source": []
  },
  {
   "cell_type": "code",
   "execution_count": 5,
   "metadata": {},
   "outputs": [],
   "source": [
    "# Define the two models\n",
    "# m1 = 'DPMJETIII306'\n",
    "m1 = 'DPMJETIII171'\n",
    "# m1 = 'QGSJETII04'\n",
    "m2 = 'DPMJETIII171'"
   ]
  },
  {
   "cell_type": "code",
   "execution_count": 6,
   "metadata": {},
   "outputs": [
    {
     "name": "stdout",
     "output_type": "stream",
     "text": [
      "impy.models.dpmjetIII.DpmjetIIIRun::init_generator(): Initializing DPMJET-III\n"
     ]
    }
   ],
   "source": [
    "gen_m1 = make_generator_instance(interaction_model_by_tag[m1])\n",
    "gen_m1.init_generator(event_kinematics)\n",
    "# import IPython\n",
    "# IPython.embed()\n",
    "# gen_m2 = make_generator_instance(interaction_model_by_tag[m2])\n",
    "# gen_m2.init_generator(event_kinematics)\n"
   ]
  },
  {
   "cell_type": "code",
   "execution_count": null,
   "metadata": {},
   "outputs": [],
   "source": [
    "n_bins = 30\n",
    "bins = np.linspace(-1,1.,n_bins+1)\n",
    "grid = 0.5*(bins[1:] + bins[:-1])\n",
    "widths = (bins[1:] - bins[:-1])\n",
    "\n",
    "m1_pions = np.zeros(n_bins)\n",
    "m1_protons = np.zeros(n_bins)\n",
    "m1_negpions = np.zeros(n_bins)\n",
    "\n",
    "eta_bins = np.linspace(-7,7,n_bins+1)\n",
    "eta_grid = 0.5*(eta_bins[1:] + eta_bins[:-1])\n",
    "widths_eta = (eta_bins[1:] - eta_bins[:-1])\n",
    "\n",
    "m1_charged_eta = np.zeros(n_bins)\n",
    "\n",
    "n_events = 20\n",
    "norm = 1./float(n_events)\n",
    "\n",
    "# This\n",
    "for event in gen_m1.event_generator(event_kinematics, n_events):\n",
    "    event.filter_final_state_charged()\n",
    "    m1_protons += norm/widths*np.histogram(event.xf[event.p_ids == 2212],bins=bins)[0]\n",
    "#     m1_pions += norm/widths*np.histogram(event.xf[np.abs(event.p_ids) == 211],bins=bins)[0]\n",
    "#     m1_charged_eta += norm/widths_eta*np.histogram(event.eta,bins=eta_bins)[0]\n",
    "#     m1_negpions += norm/widths*np.histogram(np.sqrt(pdata.mass(-211)**2 + event.pt2[(event.p_ids) == -211]),bins=bins)[0]"
   ]
  },
  {
   "cell_type": "code",
   "execution_count": 30,
   "metadata": {},
   "outputs": [
    {
     "name": "stdout",
     "output_type": "stream",
     "text": [
      "[0.0045 0.0045 0.0165 0.0135 0.0375 0.0345 0.042  0.051  0.0435 0.063\n",
      " 0.072  0.057  0.0495 0.0795 0.0825 0.0795 0.117  0.114  0.105  0.1035\n",
      " 0.1095 0.096  0.078  0.03   0.0135 0.003  0.     0.     0.     0.    ] [0. 0. 0. 0. 0. 0. 0. 0. 0. 0. 0. 0. 0. 0. 0. 0. 0. 0. 0. 0. 0. 0. 0. 0.\n",
      " 0. 0. 0. 0. 0. 0.] [1.84350e+00 1.82400e+00 6.56250e+00 5.26500e+00 1.39800e+01 1.21935e+01\n",
      " 1.37715e+01 1.55625e+01 1.22355e+01 1.58190e+01 1.59465e+01 1.10295e+01\n",
      " 8.31750e+00 1.09575e+01 9.44550e+00 7.13550e+00 8.49300e+00 6.22350e+00\n",
      " 3.76500e+00 2.34600e+00 1.36050e+00 8.44500e-01 3.58500e-01 9.30000e-02\n",
      " 3.15000e-02 7.50000e-03 0.00000e+00 0.00000e+00 0.00000e+00 0.00000e+00]\n"
     ]
    }
   ],
   "source": [
    "n_bins = 30\n",
    "\n",
    "imparam_bins = np.linspace(0,20,n_bins+1)\n",
    "imparam_grid = 0.5*(imparam_bins[1:] + imparam_bins[:-1])\n",
    "widths_imparam = (imparam_bins[1:] - imparam_bins[:-1])\n",
    "\n",
    "m1_imparam = np.zeros(n_bins)\n",
    "\n",
    "nucmult_bins = np.linspace(0,80000,n_bins+1)\n",
    "nucmult_grid = 0.5*(nucmult_bins[1:] + nucmult_bins[:-1])\n",
    "widths_nucmult = (nucmult_bins[1:] - nucmult_bins[:-1])\n",
    "\n",
    "m1_nucmult = np.zeros(n_bins)\n",
    "\n",
    "npart_bins = np.linspace(0, 20, n_bins+1)\n",
    "npart_grid = 0.5*(npart_bins[1:] + npart_bins[:-1])\n",
    "widths_npart = (npart_bins[1:] - npart_bins[:-1])\n",
    "\n",
    "m1_npart = np.zeros(n_bins)\n",
    "m1_npart_b = np.zeros(n_bins)\n",
    "\n",
    "n_events = 1000\n",
    "norm = 1./float(n_events)\n",
    "\n",
    "# This\n",
    "imparam_arr = []\n",
    "mult_arr = []\n",
    "for event in gen_m1.event_generator(event_kinematics, n_events):\n",
    "#     event.filter_final_state_charged()\n",
    "#     imparams = np.ones(np.count_nonzero(event.p_ids != 0))*float(event.impact_parameter)\n",
    "#     mults = np.ones(np.count_nonzero(event.p_ids != 0))\n",
    "#     norm = 1./(2.*np.pi*float(event.impact_parameter))/float(n_events)\n",
    "#     if float(event.impact_parameter) < 3.:\n",
    "#         print event.impact_parameter, event.n_wounded, np.count_nonzero(event.p_ids != 0)\n",
    "#     print imparams, len(imparams)\n",
    "#     imparam_arr.append(imparams)\n",
    "#     m1_imparam += norm/widths_imparam*np.histogram(imparams, bins=imparam_bins)[0]\n",
    "#     print len(m1_imparam)\n",
    "#     imparam_arr.append(float(event.impact_parameter))\n",
    "#     mult_arr.append(np.count_nonzero(event.p_ids != 0))\n",
    "#     print event.impact_parameter, np.count_nonzero(event.p_ids != 0)\n",
    "#     m1_imparam += norm/widths*len(event.p_ids)\n",
    "    \n",
    "    m1_imparam += norm/widths_imparam*np.histogram(float(event.impact_parameter), bins=imparam_bins)[0]\n",
    "#     m1_npart += norm/widths_npart*np.histogram(np.ones(np.count_nonzero(event.p_ids != 0))*float(event.n_wounded), bins=npart_bins)[0]\n",
    "    m1_npart_b += norm/widths_imparam*np.histogram(float(event.impact_parameter), bins=imparam_bins, weights=event.n_wounded)[0]\n",
    "# print imparam_arr, mult_arr\n",
    "# imparam_arr = np.concatenate([arr for arr in imparam_arr], axis=None)\n",
    "# print imparam_arr, mult_arr\n",
    "# norm = 1.\n",
    "# m1_imparam = norm/widths_imparam*np.histogram(imparam_arr, bins=imparam_bins)[0]\n",
    "print m1_imparam, m1_npart, m1_npart_b"
   ]
  },
  {
   "cell_type": "code",
   "execution_count": 34,
   "metadata": {},
   "outputs": [
    {
     "name": "stdout",
     "output_type": "stream",
     "text": [
      "1.0\n"
     ]
    }
   ],
   "source": [
    "print np.sum(m1_imparam)*widths_imparam[0]\n",
    "# print widths_imparam"
   ]
  },
  {
   "cell_type": "code",
   "execution_count": 40,
   "metadata": {},
   "outputs": [
    {
     "name": "stdout",
     "output_type": "stream",
     "text": [
      "[0.003  0.0135 0.03   0.078  0.096  0.1095 0.1035 0.105  0.114  0.117\n",
      " 0.0795 0.0825 0.0795 0.0495 0.057  0.072  0.063  0.0435 0.051  0.042\n",
      " 0.0345 0.0375 0.0135 0.0165 0.0045 0.0045]\n",
      "0.11399999999999988\n"
     ]
    }
   ],
   "source": [
    "imparam_arr = m1_imparam[::-1]\n",
    "imparam_arr = imparam_arr[4:]\n",
    "print imparam_arr"
   ]
  },
  {
   "cell_type": "code",
   "execution_count": null,
   "metadata": {},
   "outputs": [],
   "source": [
    "m2_pions = np.zeros(n_bins)\n",
    "m2_protons = np.zeros(n_bins)\n",
    "m2_charged_eta = np.zeros(n_bins)\n",
    "m2_imparam = np.zeros(n_bins)\n",
    "\n",
    "for event in gen_m2.event_generator(event_kinematics, n_events):\n",
    "#     event.filter_final_state_charged()\n",
    "    m2_imparam += norm/widths*np.histogram(event.impact_parameter, bins=imparam_bins, weights=len(event.p_ids))[0]\n",
    "#     m2_protons += norm/widths*np.histogram(event.xf[event.p_ids == 2212],bins=bins)[0]\n",
    "#     m2_pions += norm/widths*np.histogram(event.xf[np.abs(event.p_ids) == 211],bins=bins)[0]\n",
    "#     m2_charged_eta += norm/widths_eta*np.histogram(event.eta,bins=eta_bins)[0]"
   ]
  },
  {
   "cell_type": "code",
   "execution_count": null,
   "metadata": {},
   "outputs": [],
   "source": []
  },
  {
   "cell_type": "code",
   "execution_count": 31,
   "metadata": {},
   "outputs": [
    {
     "data": {
      "text/plain": [
       "<matplotlib.legend.Legend at 0x7f2d142680d0>"
      ]
     },
     "execution_count": 31,
     "metadata": {},
     "output_type": "execute_result"
    },
    {
     "data": {
      "image/png": "[encoded data removed]",
      "text/plain": [
       "<Figure size 432x288 with 1 Axes>"
      ]
     },
     "metadata": {
      "needs_background": "light"
     },
     "output_type": "display_data"
    }
   ],
   "source": [
    "l=plt.plot(imparam_grid, m1_imparam, label=m1)[0]\n",
    "# plt.plot(imparam_grid, m2_imparam, c=l.get_color(), ls='--', label=m2)\n",
    "plt.legend()"
   ]
  },
  {
   "cell_type": "code",
   "execution_count": null,
   "metadata": {},
   "outputs": [],
   "source": [
    "l=plt.plot(npart_grid, m1_npart, label=m1)[0]\n",
    "# plt.plot(imparam_grid, m2_imparam, c=l.get_color(), ls='--', label=m2)\n",
    "plt.legend()"
   ]
  },
  {
   "cell_type": "code",
   "execution_count": 32,
   "metadata": {},
   "outputs": [
    {
     "data": {
      "text/plain": [
       "<matplotlib.legend.Legend at 0x7f2d141709d0>"
      ]
     },
     "execution_count": 32,
     "metadata": {},
     "output_type": "execute_result"
    },
    {
     "data": {
      "image/png": "[encoded data removed]",
      "text/plain": [
       "<Figure size 432x288 with 1 Axes>"
      ]
     },
     "metadata": {
      "needs_background": "light"
     },
     "output_type": "display_data"
    }
   ],
   "source": [
    "l=plt.plot(imparam_grid, m1_npart_b, label=m1)[0]\n",
    "# plt.plot(imparam_grid, m2_imparam, c=l.get_color(), ls='--', label=m2)\n",
    "plt.legend()"
   ]
  },
  {
   "cell_type": "code",
   "execution_count": null,
   "metadata": {},
   "outputs": [],
   "source": [
    "l=plt.plot(grid, m1_protons,label=m1)[0]\n",
    "plt.plot(grid, m2_protons,c=l.get_color(), ls='--',label=m2)\n",
    "l=plt.plot(grid, m1_pions,label=m1)[0]\n",
    "plt.plot(grid, m2_pions,c=l.get_color(), ls='--',label=m2)\n",
    "plt.ylim(1e-2,)\n",
    "plt.semilogy()\n",
    "plt.legend()"
   ]
  },
  {
   "cell_type": "code",
   "execution_count": null,
   "metadata": {},
   "outputs": [],
   "source": [
    "l=plt.plot(eta_grid, m1_charged_eta, label=m1)[0]\n",
    "plt.plot(eta_grid, m2_charged_eta,c=l.get_color(), ls='--', label=m2)\n",
    "plt.ylim(0,7)\n",
    "plt.grid()\n",
    "plt.legend()"
   ]
  },
  {
   "cell_type": "code",
   "execution_count": null,
   "metadata": {},
   "outputs": [],
   "source": [
    "for event in gen_m1.event_generator(event_kinematics, 3):\n",
    "    event.filter_final_state_charged()\n",
    "    for pid, x, y, z, e in zip(event.p_ids, event.px, event.py, event.pz, event.en):\n",
    "        print '{0:8}: {1:10.2e} {2:10.2e} {3:10.2e} {4:10.2e}'.format(pid, x, y, z, e) "
   ]
  },
  {
   "cell_type": "code",
   "execution_count": null,
   "metadata": {},
   "outputs": [],
   "source": [
    "gen_m2.lib.pomdls.iswmdl[5]"
   ]
  },
  {
   "cell_type": "code",
   "execution_count": null,
   "metadata": {},
   "outputs": [],
   "source": []
  }
 ],
 "metadata": {
  "kernelspec": {
   "display_name": "Python 2",
   "language": "python",
   "name": "python2"
  },
  "language_info": {
   "codemirror_mode": {
    "name": "ipython",
    "version": 2
   },
   "file_extension": ".py",
   "mimetype": "text/x-python",
   "name": "python",
   "nbconvert_exporter": "python",
   "pygments_lexer": "ipython2",
   "version": "2.7.16"
  }
 },
 "nbformat": 4,
 "nbformat_minor": 2
}
