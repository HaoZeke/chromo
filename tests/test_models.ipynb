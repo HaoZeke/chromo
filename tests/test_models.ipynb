{
 "cells": [
  {
   "cell_type": "code",
   "execution_count": 2,
   "metadata": {},
   "outputs": [],
   "source": [
    "import matplotlib.pyplot as plt\n",
    "import sys\n",
    "import os\n",
    "import numpy as np\n",
    "%load_ext autoreload\n",
    "%autoreload 2"
   ]
  },
  {
   "cell_type": "code",
   "execution_count": 3,
   "metadata": {},
   "outputs": [],
   "source": [
    "root_dir = os.path.abspath('../')\n",
    "sys.path.append(root_dir)\n",
    "sys.path.append(os.path.join(root_dir,'../DPMJET-III-gitlab'))\n",
    "# print root_dir\n",
    "\n",
    "pythia_dir = os.path.join(\n",
    "    os.path.expanduser('~'), 'devel', 'apps', 'pythia8240')\n",
    "sys.path.append(os.path.join(pythia_dir, 'lib'))\n",
    "\n",
    "from impy.definitions import *\n",
    "from impy.constants import *\n",
    "from impy.kinematics import EventKinematics\n",
    "from impy.common import impy_config, pdata"
   ]
  },
  {
   "cell_type": "code",
   "execution_count": 4,
   "metadata": {},
   "outputs": [],
   "source": [
    "event_kinematics = EventKinematics(\n",
    "#     plab = 20 * GeV,\n",
    "    ecm = 19.6 * GeV,\n",
    "#     p1pdg=2212,\n",
    "#     p2pdg=2212\n",
    "    nuc1_prop=(197,79), \n",
    "    nuc2_prop=(197,79)\n",
    ")"
   ]
  },
  {
   "cell_type": "code",
   "execution_count": 5,
   "metadata": {},
   "outputs": [],
   "source": [
    "impy_config[\"user_frame\"] = 'center-of-mass'\n",
    "impy_config['tau_stable'] = 10e-12\n",
    "impy_config['pi0_stable'] = True"
   ]
  },
  {
   "cell_type": "code",
   "execution_count": null,
   "metadata": {},
   "outputs": [],
   "source": [
    "#define model here\n",
    "#list of models: 'SIBYLL23C', 'SIBYLL23', 'SIBYLL21', 'DPMJETIII306', 'DPMJETIII171', \n",
    "#            'EPOSLHC','PHOJET112','PHOJET171','URQMD34','PYTHIA8','QGSJET01C',\n",
    "#            'QGSJETII03','QGSJETII04'\n",
    "m_list = ['SIBYLL23C', 'SIBYLL23', 'SIBYLL21', 'DPMJETIII306', 'DPMJETIII171', \n",
    "            'EPOSLHC','PHOJET112','PHOJET171','URQMD34','PYTHIA8','QGSJET01C',\n",
    "           'QGSJETII03','QGSJETII04']\n",
    "for m in m_list:\n",
    "    gen_m = make_generator_instance(interaction_model_by_tag[m])\n",
    "    gen_m.init_generator(event_kinematics)"
   ]
  },
  {
   "cell_type": "code",
   "execution_count": null,
   "metadata": {},
   "outputs": [],
   "source": [
    "n_bins = 30\n",
    "bins = np.linspace(-1,1.,n_bins+1)\n",
    "grid = 0.5*(bins[1:] + bins[:-1])\n",
    "widths = (bins[1:] - bins[:-1])\n",
    "\n",
    "mt_bins = np.linspace(0, 1.8, n_bins+1)\n",
    "mt_grid = 0.5*(mt_bins[1:] + mt_bins[:-1])\n",
    "widths_mt = (mt_bins[1:] - mt_bins[:-1])\n",
    "\n",
    "m_negpions = np.zeros(n_bins)\n",
    "ymin = 0\n",
    "ymax = 0.2\n",
    "\n",
    "eta_bins = np.linspace(-7,7,n_bins+1)\n",
    "eta_grid = 0.5*(eta_bins[1:] + eta_bins[:-1])\n",
    "widths_eta = (eta_bins[1:] - eta_bins[:-1])\n",
    "\n",
    "m_charged_eta = np.zeros(n_bins)\n",
    "\n",
    "n_events = 10000\n",
    "norm = 1./float(n_events)\n",
    "\n",
    "for event in gen_m.event_generator(event_kinematics, n_events):\n",
    "    event.filter_final_state_centrality(event_kinematics, (0, 0.06))\n",
    "    m_charged_eta += norm/widths_eta*np.histogram(event.eta,bins=eta_bins)[0]\n",
    "\n",
    "for event in gen_m.event_generator(event_kinematics, n_events):\n",
    "    event.filter_final_state_charged()\n",
    "    m_negpions += norm/widths*np.histogram(np.sqrt(pdata.mass(-211)**2 + event.pt2[(event.p_ids == -211)&(event.y < ymax)&(event.y > ymin)]),bins=bins)[0]"
   ]
  },
  {
   "cell_type": "code",
   "execution_count": null,
   "metadata": {},
   "outputs": [],
   "source": [
    "l = plt.plot(mt_grid, m_negpions, label=m)\n",
    "plt.xlim(xmin=0)\n",
    "plt.semilogy()\n",
    "plt.legend()"
   ]
  },
  {
   "cell_type": "code",
   "execution_count": null,
   "metadata": {},
   "outputs": [],
   "source": [
    "l = plt.plot(eta_grid, m_charged_eta, label=m)\n",
    "plt.legend()"
   ]
  },
  {
   "cell_type": "code",
   "execution_count": null,
   "metadata": {},
   "outputs": [],
   "source": [
    "for event in gen_m.event_generator(event_kinematics, 3):\n",
    "    event.filter_final_state_charged()\n",
    "    for pid, x, y, z, e in zip(event.p_ids, event.px, event.py, event.pz, event.en):\n",
    "        print '{0:8}: {1:10.2e} {2:10.2e} {3:10.2e} {4:10.2e}'.format(pid, x, y, z, e) "
   ]
  },
  {
   "cell_type": "code",
   "execution_count": null,
   "metadata": {},
   "outputs": [],
   "source": [
    "tup = (0,1)\n",
    "print('{0} + {1} = 1'.format(*tup))"
   ]
  },
  {
   "cell_type": "code",
   "execution_count": null,
   "metadata": {},
   "outputs": [],
   "source": []
  }
 ],
 "metadata": {
  "kernelspec": {
   "display_name": "Python 2",
   "language": "python",
   "name": "python2"
  },
  "language_info": {
   "codemirror_mode": {
    "name": "ipython",
    "version": 2
   },
   "file_extension": ".py",
   "mimetype": "text/x-python",
   "name": "python",
   "nbconvert_exporter": "python",
   "pygments_lexer": "ipython2",
   "version": "2.7.16"
  }
 },
 "nbformat": 4,
 "nbformat_minor": 2
}
